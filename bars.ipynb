{
 "cells": [
  {
   "cell_type": "code",
   "execution_count": 11,
   "metadata": {},
   "outputs": [],
   "source": [
    "import pandas as pd\n",
    "import numpy as np\n",
    "import matplotlib.pyplot as plt\n",
    "from information_driven_bars import *\n",
    "from datetime import datetime"
   ]
  },
  {
   "cell_type": "code",
   "execution_count": 5,
   "metadata": {},
   "outputs": [],
   "source": [
    "df = pd.read_csv(\"GOOG_2021_12.txt\", header=None)"
   ]
  },
  {
   "cell_type": "code",
   "execution_count": 7,
   "metadata": {},
   "outputs": [],
   "source": [
    "df.columns = [\"date\", \"price\", \"volume\", \"exchange_code\", \"trade_condition\"]"
   ]
  },
  {
   "cell_type": "code",
   "execution_count": 8,
   "metadata": {},
   "outputs": [
    {
     "data": {
      "text/html": [
       "<div>\n",
       "<style scoped>\n",
       "    .dataframe tbody tr th:only-of-type {\n",
       "        vertical-align: middle;\n",
       "    }\n",
       "\n",
       "    .dataframe tbody tr th {\n",
       "        vertical-align: top;\n",
       "    }\n",
       "\n",
       "    .dataframe thead th {\n",
       "        text-align: right;\n",
       "    }\n",
       "</style>\n",
       "<table border=\"1\" class=\"dataframe\">\n",
       "  <thead>\n",
       "    <tr style=\"text-align: right;\">\n",
       "      <th></th>\n",
       "      <th>date</th>\n",
       "      <th>price</th>\n",
       "      <th>volume</th>\n",
       "      <th>exchange_code</th>\n",
       "      <th>trade_condition</th>\n",
       "    </tr>\n",
       "  </thead>\n",
       "  <tbody>\n",
       "    <tr>\n",
       "      <th>0</th>\n",
       "      <td>2021-12-01 04:00:00.060889</td>\n",
       "      <td>2884.03</td>\n",
       "      <td>1</td>\n",
       "      <td>8</td>\n",
       "      <td>E-B</td>\n",
       "    </tr>\n",
       "    <tr>\n",
       "      <th>1</th>\n",
       "      <td>2021-12-01 04:00:00.475441</td>\n",
       "      <td>2881.54</td>\n",
       "      <td>1</td>\n",
       "      <td>7</td>\n",
       "      <td>E-B</td>\n",
       "    </tr>\n",
       "    <tr>\n",
       "      <th>2</th>\n",
       "      <td>2021-12-01 04:00:00.475449</td>\n",
       "      <td>2881.54</td>\n",
       "      <td>1</td>\n",
       "      <td>7</td>\n",
       "      <td>E-B</td>\n",
       "    </tr>\n",
       "    <tr>\n",
       "      <th>3</th>\n",
       "      <td>2021-12-01 04:00:02.983678</td>\n",
       "      <td>2890.00</td>\n",
       "      <td>3</td>\n",
       "      <td>7</td>\n",
       "      <td>E-B</td>\n",
       "    </tr>\n",
       "    <tr>\n",
       "      <th>4</th>\n",
       "      <td>2021-12-01 04:00:02.983846</td>\n",
       "      <td>2891.09</td>\n",
       "      <td>3</td>\n",
       "      <td>8</td>\n",
       "      <td>E-B</td>\n",
       "    </tr>\n",
       "  </tbody>\n",
       "</table>\n",
       "</div>"
      ],
      "text/plain": [
       "                         date    price  volume  exchange_code trade_condition\n",
       "0  2021-12-01 04:00:00.060889  2884.03       1              8             E-B\n",
       "1  2021-12-01 04:00:00.475441  2881.54       1              7             E-B\n",
       "2  2021-12-01 04:00:00.475449  2881.54       1              7             E-B\n",
       "3  2021-12-01 04:00:02.983678  2890.00       3              7             E-B\n",
       "4  2021-12-01 04:00:02.983846  2891.09       3              8             E-B"
      ]
     },
     "execution_count": 8,
     "metadata": {},
     "output_type": "execute_result"
    }
   ],
   "source": [
    "df.head()"
   ]
  },
  {
   "cell_type": "code",
   "execution_count": 10,
   "metadata": {},
   "outputs": [],
   "source": [
    "df['date'] = pd.to_datetime(df['date'])"
   ]
  },
  {
   "cell_type": "code",
   "execution_count": 15,
   "metadata": {},
   "outputs": [],
   "source": [
    "df['timestamp'] = df['date'].apply(datetime.timestamp)"
   ]
  },
  {
   "cell_type": "code",
   "execution_count": 46,
   "metadata": {},
   "outputs": [],
   "source": [
    "df1 = df[df['exchange_code']==1]"
   ]
  },
  {
   "cell_type": "code",
   "execution_count": 23,
   "metadata": {},
   "outputs": [],
   "source": [
    "#plt.plot(df['timestamp'][:1000], df['price'][:1000])"
   ]
  },
  {
   "cell_type": "code",
   "execution_count": 24,
   "metadata": {},
   "outputs": [],
   "source": [
    "#plt.plot(df[\"timestamp\"][:1000], df1['price'][:1000])"
   ]
  },
  {
   "cell_type": "code",
   "execution_count": 30,
   "metadata": {},
   "outputs": [],
   "source": [
    "tick_time, T_list, _ = tick_imbalance_bar(df1['price'][:10000], 100, 50)"
   ]
  },
  {
   "cell_type": "code",
   "execution_count": 31,
   "metadata": {},
   "outputs": [
    {
     "data": {
      "text/plain": [
       "[100]"
      ]
     },
     "execution_count": 31,
     "metadata": {},
     "output_type": "execute_result"
    }
   ],
   "source": [
    "tick_time"
   ]
  },
  {
   "cell_type": "code",
   "execution_count": 32,
   "metadata": {},
   "outputs": [],
   "source": [
    "def tick_bar(price, n_tick):\n",
    "    len_price=len(price)\n",
    "    n_bars = int(np.floor(len_price / n_tick))\n",
    "    ret = []\n",
    "    for i in range(n_bars):\n",
    "        start = i*n_tick; end = (i+1)*n_tick -1\n",
    "        ret.append(price[end] - price[start])\n",
    "    return ret"
   ]
  },
  {
   "cell_type": "code",
   "execution_count": 45,
   "metadata": {},
   "outputs": [
    {
     "data": {
      "text/html": [
       "<div>\n",
       "<style scoped>\n",
       "    .dataframe tbody tr th:only-of-type {\n",
       "        vertical-align: middle;\n",
       "    }\n",
       "\n",
       "    .dataframe tbody tr th {\n",
       "        vertical-align: top;\n",
       "    }\n",
       "\n",
       "    .dataframe thead th {\n",
       "        text-align: right;\n",
       "    }\n",
       "</style>\n",
       "<table border=\"1\" class=\"dataframe\">\n",
       "  <thead>\n",
       "    <tr style=\"text-align: right;\">\n",
       "      <th></th>\n",
       "      <th>date</th>\n",
       "      <th>price</th>\n",
       "      <th>volume</th>\n",
       "      <th>exchange_code</th>\n",
       "      <th>trade_condition</th>\n",
       "      <th>timestamp</th>\n",
       "    </tr>\n",
       "  </thead>\n",
       "  <tbody>\n",
       "    <tr>\n",
       "      <th>14</th>\n",
       "      <td>2021-12-01 04:07:08.881069</td>\n",
       "      <td>2893.75</td>\n",
       "      <td>2</td>\n",
       "      <td>1</td>\n",
       "      <td>E-B</td>\n",
       "      <td>1.638299e+09</td>\n",
       "    </tr>\n",
       "    <tr>\n",
       "      <th>15</th>\n",
       "      <td>2021-12-01 04:08:04.401561</td>\n",
       "      <td>2893.75</td>\n",
       "      <td>2</td>\n",
       "      <td>1</td>\n",
       "      <td>E-B</td>\n",
       "      <td>1.638299e+09</td>\n",
       "    </tr>\n",
       "    <tr>\n",
       "      <th>16</th>\n",
       "      <td>2021-12-01 04:08:10.551448</td>\n",
       "      <td>2892.22</td>\n",
       "      <td>8</td>\n",
       "      <td>1</td>\n",
       "      <td>S-E-B-M</td>\n",
       "      <td>1.638299e+09</td>\n",
       "    </tr>\n",
       "    <tr>\n",
       "      <th>17</th>\n",
       "      <td>2021-12-01 04:08:10.551482</td>\n",
       "      <td>2892.22</td>\n",
       "      <td>8</td>\n",
       "      <td>1</td>\n",
       "      <td>S-E-B-M</td>\n",
       "      <td>1.638299e+09</td>\n",
       "    </tr>\n",
       "    <tr>\n",
       "      <th>18</th>\n",
       "      <td>2021-12-01 04:08:10.551484</td>\n",
       "      <td>2892.22</td>\n",
       "      <td>8</td>\n",
       "      <td>1</td>\n",
       "      <td>S-E-B-M</td>\n",
       "      <td>1.638299e+09</td>\n",
       "    </tr>\n",
       "    <tr>\n",
       "      <th>19</th>\n",
       "      <td>2021-12-01 04:08:10.551638</td>\n",
       "      <td>2892.22</td>\n",
       "      <td>3</td>\n",
       "      <td>1</td>\n",
       "      <td>S-E-B-M</td>\n",
       "      <td>1.638299e+09</td>\n",
       "    </tr>\n",
       "    <tr>\n",
       "      <th>22</th>\n",
       "      <td>2021-12-01 04:08:16.940265</td>\n",
       "      <td>2893.75</td>\n",
       "      <td>10</td>\n",
       "      <td>1</td>\n",
       "      <td>E-B</td>\n",
       "      <td>1.638299e+09</td>\n",
       "    </tr>\n",
       "    <tr>\n",
       "      <th>23</th>\n",
       "      <td>2021-12-01 04:08:16.940709</td>\n",
       "      <td>2894.00</td>\n",
       "      <td>1</td>\n",
       "      <td>1</td>\n",
       "      <td>S-E-B-M</td>\n",
       "      <td>1.638299e+09</td>\n",
       "    </tr>\n",
       "    <tr>\n",
       "      <th>25</th>\n",
       "      <td>2021-12-01 04:08:29.606849</td>\n",
       "      <td>2893.75</td>\n",
       "      <td>80</td>\n",
       "      <td>1</td>\n",
       "      <td>S-E-B-M</td>\n",
       "      <td>1.638299e+09</td>\n",
       "    </tr>\n",
       "    <tr>\n",
       "      <th>26</th>\n",
       "      <td>2021-12-01 04:08:29.606863</td>\n",
       "      <td>2893.75</td>\n",
       "      <td>11</td>\n",
       "      <td>1</td>\n",
       "      <td>S-E-B-M</td>\n",
       "      <td>1.638299e+09</td>\n",
       "    </tr>\n",
       "    <tr>\n",
       "      <th>27</th>\n",
       "      <td>2021-12-01 04:08:29.606891</td>\n",
       "      <td>2893.03</td>\n",
       "      <td>2</td>\n",
       "      <td>1</td>\n",
       "      <td>S-E-B-M</td>\n",
       "      <td>1.638299e+09</td>\n",
       "    </tr>\n",
       "    <tr>\n",
       "      <th>35</th>\n",
       "      <td>2021-12-01 04:08:30.313348</td>\n",
       "      <td>2890.69</td>\n",
       "      <td>1</td>\n",
       "      <td>1</td>\n",
       "      <td>E-B</td>\n",
       "      <td>1.638299e+09</td>\n",
       "    </tr>\n",
       "    <tr>\n",
       "      <th>38</th>\n",
       "      <td>2021-12-01 04:09:45.727266</td>\n",
       "      <td>2892.54</td>\n",
       "      <td>1</td>\n",
       "      <td>1</td>\n",
       "      <td>S-E-B-M</td>\n",
       "      <td>1.638299e+09</td>\n",
       "    </tr>\n",
       "    <tr>\n",
       "      <th>39</th>\n",
       "      <td>2021-12-01 04:09:46.134403</td>\n",
       "      <td>2894.33</td>\n",
       "      <td>8</td>\n",
       "      <td>1</td>\n",
       "      <td>E-B</td>\n",
       "      <td>1.638299e+09</td>\n",
       "    </tr>\n",
       "    <tr>\n",
       "      <th>40</th>\n",
       "      <td>2021-12-01 04:09:46.134405</td>\n",
       "      <td>2895.00</td>\n",
       "      <td>1</td>\n",
       "      <td>1</td>\n",
       "      <td>E-B</td>\n",
       "      <td>1.638299e+09</td>\n",
       "    </tr>\n",
       "    <tr>\n",
       "      <th>41</th>\n",
       "      <td>2021-12-01 04:09:46.208519</td>\n",
       "      <td>2895.00</td>\n",
       "      <td>11</td>\n",
       "      <td>1</td>\n",
       "      <td>S-E-B-M</td>\n",
       "      <td>1.638299e+09</td>\n",
       "    </tr>\n",
       "    <tr>\n",
       "      <th>42</th>\n",
       "      <td>2021-12-01 04:10:04.106209</td>\n",
       "      <td>2892.47</td>\n",
       "      <td>2</td>\n",
       "      <td>1</td>\n",
       "      <td>E-B</td>\n",
       "      <td>1.638299e+09</td>\n",
       "    </tr>\n",
       "    <tr>\n",
       "      <th>43</th>\n",
       "      <td>2021-12-01 04:10:37.835270</td>\n",
       "      <td>2892.47</td>\n",
       "      <td>1</td>\n",
       "      <td>1</td>\n",
       "      <td>E-B</td>\n",
       "      <td>1.638299e+09</td>\n",
       "    </tr>\n",
       "    <tr>\n",
       "      <th>44</th>\n",
       "      <td>2021-12-01 04:10:37.835271</td>\n",
       "      <td>2892.47</td>\n",
       "      <td>20</td>\n",
       "      <td>1</td>\n",
       "      <td>E-B</td>\n",
       "      <td>1.638299e+09</td>\n",
       "    </tr>\n",
       "    <tr>\n",
       "      <th>45</th>\n",
       "      <td>2021-12-01 04:12:07.174417</td>\n",
       "      <td>2895.70</td>\n",
       "      <td>2</td>\n",
       "      <td>1</td>\n",
       "      <td>E-B</td>\n",
       "      <td>1.638300e+09</td>\n",
       "    </tr>\n",
       "  </tbody>\n",
       "</table>\n",
       "</div>"
      ],
      "text/plain": [
       "                         date    price  volume  exchange_code trade_condition  \\\n",
       "14 2021-12-01 04:07:08.881069  2893.75       2              1             E-B   \n",
       "15 2021-12-01 04:08:04.401561  2893.75       2              1             E-B   \n",
       "16 2021-12-01 04:08:10.551448  2892.22       8              1         S-E-B-M   \n",
       "17 2021-12-01 04:08:10.551482  2892.22       8              1         S-E-B-M   \n",
       "18 2021-12-01 04:08:10.551484  2892.22       8              1         S-E-B-M   \n",
       "19 2021-12-01 04:08:10.551638  2892.22       3              1         S-E-B-M   \n",
       "22 2021-12-01 04:08:16.940265  2893.75      10              1             E-B   \n",
       "23 2021-12-01 04:08:16.940709  2894.00       1              1         S-E-B-M   \n",
       "25 2021-12-01 04:08:29.606849  2893.75      80              1         S-E-B-M   \n",
       "26 2021-12-01 04:08:29.606863  2893.75      11              1         S-E-B-M   \n",
       "27 2021-12-01 04:08:29.606891  2893.03       2              1         S-E-B-M   \n",
       "35 2021-12-01 04:08:30.313348  2890.69       1              1             E-B   \n",
       "38 2021-12-01 04:09:45.727266  2892.54       1              1         S-E-B-M   \n",
       "39 2021-12-01 04:09:46.134403  2894.33       8              1             E-B   \n",
       "40 2021-12-01 04:09:46.134405  2895.00       1              1             E-B   \n",
       "41 2021-12-01 04:09:46.208519  2895.00      11              1         S-E-B-M   \n",
       "42 2021-12-01 04:10:04.106209  2892.47       2              1             E-B   \n",
       "43 2021-12-01 04:10:37.835270  2892.47       1              1             E-B   \n",
       "44 2021-12-01 04:10:37.835271  2892.47      20              1             E-B   \n",
       "45 2021-12-01 04:12:07.174417  2895.70       2              1             E-B   \n",
       "\n",
       "       timestamp  \n",
       "14  1.638299e+09  \n",
       "15  1.638299e+09  \n",
       "16  1.638299e+09  \n",
       "17  1.638299e+09  \n",
       "18  1.638299e+09  \n",
       "19  1.638299e+09  \n",
       "22  1.638299e+09  \n",
       "23  1.638299e+09  \n",
       "25  1.638299e+09  \n",
       "26  1.638299e+09  \n",
       "27  1.638299e+09  \n",
       "35  1.638299e+09  \n",
       "38  1.638299e+09  \n",
       "39  1.638299e+09  \n",
       "40  1.638299e+09  \n",
       "41  1.638299e+09  \n",
       "42  1.638299e+09  \n",
       "43  1.638299e+09  \n",
       "44  1.638299e+09  \n",
       "45  1.638300e+09  "
      ]
     },
     "execution_count": 45,
     "metadata": {},
     "output_type": "execute_result"
    }
   ],
   "source": [
    "df1"
   ]
  },
  {
   "cell_type": "code",
   "execution_count": 47,
   "metadata": {},
   "outputs": [],
   "source": [
    "ret_tick = tick_bar(df1['price'].to_numpy(), 100)"
   ]
  },
  {
   "cell_type": "code",
   "execution_count": 48,
   "metadata": {},
   "outputs": [
    {
     "data": {
      "text/plain": [
       "(array([1.000e+00, 0.000e+00, 0.000e+00, 0.000e+00, 0.000e+00, 0.000e+00,\n",
       "        0.000e+00, 0.000e+00, 0.000e+00, 0.000e+00, 0.000e+00, 0.000e+00,\n",
       "        0.000e+00, 0.000e+00, 0.000e+00, 0.000e+00, 0.000e+00, 0.000e+00,\n",
       "        0.000e+00, 0.000e+00, 0.000e+00, 0.000e+00, 0.000e+00, 0.000e+00,\n",
       "        0.000e+00, 0.000e+00, 0.000e+00, 1.000e+00, 0.000e+00, 0.000e+00,\n",
       "        0.000e+00, 1.000e+00, 0.000e+00, 0.000e+00, 0.000e+00, 0.000e+00,\n",
       "        1.000e+00, 0.000e+00, 1.000e+00, 3.000e+00, 1.000e+00, 2.000e+00,\n",
       "        1.000e+00, 6.000e+00, 1.700e+01, 2.400e+01, 4.900e+01, 9.300e+01,\n",
       "        1.780e+02, 2.830e+02, 5.410e+02, 8.320e+02, 1.011e+03, 8.800e+02,\n",
       "        6.100e+02, 3.700e+02, 1.940e+02, 1.090e+02, 6.600e+01, 3.000e+01,\n",
       "        1.200e+01, 8.000e+00, 3.000e+00, 5.000e+00, 2.000e+00, 3.000e+00,\n",
       "        1.000e+00, 1.000e+00, 2.000e+00, 0.000e+00, 0.000e+00, 0.000e+00,\n",
       "        0.000e+00, 0.000e+00, 0.000e+00, 0.000e+00, 0.000e+00, 0.000e+00,\n",
       "        0.000e+00, 1.000e+00, 0.000e+00, 0.000e+00, 0.000e+00, 0.000e+00,\n",
       "        0.000e+00, 0.000e+00, 0.000e+00, 0.000e+00, 0.000e+00, 0.000e+00,\n",
       "        0.000e+00, 0.000e+00, 0.000e+00, 0.000e+00, 0.000e+00, 0.000e+00,\n",
       "        0.000e+00, 0.000e+00, 0.000e+00, 1.000e+00]),\n",
       " array([-51.19  , -50.2177, -49.2454, -48.2731, -47.3008, -46.3285,\n",
       "        -45.3562, -44.3839, -43.4116, -42.4393, -41.467 , -40.4947,\n",
       "        -39.5224, -38.5501, -37.5778, -36.6055, -35.6332, -34.6609,\n",
       "        -33.6886, -32.7163, -31.744 , -30.7717, -29.7994, -28.8271,\n",
       "        -27.8548, -26.8825, -25.9102, -24.9379, -23.9656, -22.9933,\n",
       "        -22.021 , -21.0487, -20.0764, -19.1041, -18.1318, -17.1595,\n",
       "        -16.1872, -15.2149, -14.2426, -13.2703, -12.298 , -11.3257,\n",
       "        -10.3534,  -9.3811,  -8.4088,  -7.4365,  -6.4642,  -5.4919,\n",
       "         -4.5196,  -3.5473,  -2.575 ,  -1.6027,  -0.6304,   0.3419,\n",
       "          1.3142,   2.2865,   3.2588,   4.2311,   5.2034,   6.1757,\n",
       "          7.148 ,   8.1203,   9.0926,  10.0649,  11.0372,  12.0095,\n",
       "         12.9818,  13.9541,  14.9264,  15.8987,  16.871 ,  17.8433,\n",
       "         18.8156,  19.7879,  20.7602,  21.7325,  22.7048,  23.6771,\n",
       "         24.6494,  25.6217,  26.594 ,  27.5663,  28.5386,  29.5109,\n",
       "         30.4832,  31.4555,  32.4278,  33.4001,  34.3724,  35.3447,\n",
       "         36.317 ,  37.2893,  38.2616,  39.2339,  40.2062,  41.1785,\n",
       "         42.1508,  43.1231,  44.0954,  45.0677,  46.04  ]),\n",
       " <BarContainer object of 100 artists>)"
      ]
     },
     "execution_count": 48,
     "metadata": {},
     "output_type": "execute_result"
    },
    {
     "data": {
      "image/png": "[encoded data removed]",
      "text/plain": [
       "<Figure size 640x480 with 1 Axes>"
      ]
     },
     "metadata": {},
     "output_type": "display_data"
    }
   ],
   "source": [
    "plt.hist(ret_tick, bins=100)"
   ]
  },
  {
   "cell_type": "code",
   "execution_count": 49,
   "metadata": {},
   "outputs": [],
   "source": [
    "def volume_bar(price, volume, volume_th):\n",
    "    len_price=len(price)\n",
    "    ret = []; cum_vol = 0\n",
    "    for i in range(len_price):\n",
    "        if cum_vol == 0:\n",
    "            start_price = price[i]\n",
    "        cum_vol += volume[i]\n",
    "        if cum_vol > volume_th:\n",
    "            close_price = price[i]\n",
    "            ret.append(close_price - start_price)\n",
    "            cum_vol = 0\n",
    "    return ret"
   ]
  },
  {
   "cell_type": "code",
   "execution_count": 57,
   "metadata": {},
   "outputs": [],
   "source": [
    "ret_vol = volume_bar(df1['price'].to_numpy(), df1['volume'].to_numpy(), 20)"
   ]
  },
  {
   "cell_type": "code",
   "execution_count": 58,
   "metadata": {},
   "outputs": [
    {
     "data": {
      "text/plain": [
       "(array([1.0000e+00, 0.0000e+00, 0.0000e+00, 0.0000e+00, 0.0000e+00,\n",
       "        0.0000e+00, 0.0000e+00, 0.0000e+00, 0.0000e+00, 0.0000e+00,\n",
       "        0.0000e+00, 0.0000e+00, 0.0000e+00, 0.0000e+00, 0.0000e+00,\n",
       "        0.0000e+00, 0.0000e+00, 0.0000e+00, 0.0000e+00, 0.0000e+00,\n",
       "        0.0000e+00, 0.0000e+00, 0.0000e+00, 0.0000e+00, 0.0000e+00,\n",
       "        0.0000e+00, 0.0000e+00, 0.0000e+00, 0.0000e+00, 0.0000e+00,\n",
       "        0.0000e+00, 0.0000e+00, 0.0000e+00, 0.0000e+00, 0.0000e+00,\n",
       "        0.0000e+00, 0.0000e+00, 0.0000e+00, 0.0000e+00, 0.0000e+00,\n",
       "        0.0000e+00, 2.0000e+00, 0.0000e+00, 0.0000e+00, 0.0000e+00,\n",
       "        0.0000e+00, 6.0000e+00, 2.0000e+00, 7.0000e+00, 1.1000e+01,\n",
       "        1.0000e+01, 3.7000e+01, 6.8000e+01, 1.8700e+02, 7.3200e+02,\n",
       "        3.3200e+03, 1.6243e+04, 8.8820e+04, 7.4490e+03, 1.3350e+03,\n",
       "        2.9700e+02, 9.3000e+01, 4.2000e+01, 2.8000e+01, 1.3000e+01,\n",
       "        7.0000e+00, 8.0000e+00, 2.0000e+00, 0.0000e+00, 3.0000e+00,\n",
       "        1.0000e+00, 3.0000e+00, 0.0000e+00, 1.0000e+00, 0.0000e+00,\n",
       "        2.0000e+00, 0.0000e+00, 0.0000e+00, 0.0000e+00, 0.0000e+00,\n",
       "        0.0000e+00, 0.0000e+00, 0.0000e+00, 0.0000e+00, 0.0000e+00,\n",
       "        0.0000e+00, 0.0000e+00, 0.0000e+00, 0.0000e+00, 0.0000e+00,\n",
       "        0.0000e+00, 0.0000e+00, 0.0000e+00, 0.0000e+00, 0.0000e+00,\n",
       "        0.0000e+00, 0.0000e+00, 0.0000e+00, 0.0000e+00, 1.0000e+00]),\n",
       " array([-43.2   , -42.4455, -41.691 , -40.9365, -40.182 , -39.4275,\n",
       "        -38.673 , -37.9185, -37.164 , -36.4095, -35.655 , -34.9005,\n",
       "        -34.146 , -33.3915, -32.637 , -31.8825, -31.128 , -30.3735,\n",
       "        -29.619 , -28.8645, -28.11  , -27.3555, -26.601 , -25.8465,\n",
       "        -25.092 , -24.3375, -23.583 , -22.8285, -22.074 , -21.3195,\n",
       "        -20.565 , -19.8105, -19.056 , -18.3015, -17.547 , -16.7925,\n",
       "        -16.038 , -15.2835, -14.529 , -13.7745, -13.02  , -12.2655,\n",
       "        -11.511 , -10.7565, -10.002 ,  -9.2475,  -8.493 ,  -7.7385,\n",
       "         -6.984 ,  -6.2295,  -5.475 ,  -4.7205,  -3.966 ,  -3.2115,\n",
       "         -2.457 ,  -1.7025,  -0.948 ,  -0.1935,   0.561 ,   1.3155,\n",
       "          2.07  ,   2.8245,   3.579 ,   4.3335,   5.088 ,   5.8425,\n",
       "          6.597 ,   7.3515,   8.106 ,   8.8605,   9.615 ,  10.3695,\n",
       "         11.124 ,  11.8785,  12.633 ,  13.3875,  14.142 ,  14.8965,\n",
       "         15.651 ,  16.4055,  17.16  ,  17.9145,  18.669 ,  19.4235,\n",
       "         20.178 ,  20.9325,  21.687 ,  22.4415,  23.196 ,  23.9505,\n",
       "         24.705 ,  25.4595,  26.214 ,  26.9685,  27.723 ,  28.4775,\n",
       "         29.232 ,  29.9865,  30.741 ,  31.4955,  32.25  ]),\n",
       " <BarContainer object of 100 artists>)"
      ]
     },
     "execution_count": 58,
     "metadata": {},
     "output_type": "execute_result"
    },
    {
     "data": {
      "image/png": "[encoded data removed]",
      "text/plain": [
       "<Figure size 640x480 with 1 Axes>"
      ]
     },
     "metadata": {},
     "output_type": "display_data"
    }
   ],
   "source": [
    "plt.hist(ret_vol, bins=100)"
   ]
  },
  {
   "cell_type": "code",
   "execution_count": 52,
   "metadata": {},
   "outputs": [
    {
     "data": {
      "text/plain": [
       "534492"
      ]
     },
     "execution_count": 52,
     "metadata": {},
     "output_type": "execute_result"
    }
   ],
   "source": [
    "len(df1)"
   ]
  },
  {
   "cell_type": "code",
   "execution_count": 56,
   "metadata": {},
   "outputs": [
    {
     "data": {
      "text/plain": [
       "17.037727412197"
      ]
     },
     "execution_count": 56,
     "metadata": {},
     "output_type": "execute_result"
    }
   ],
   "source": [
    "df1['volume'].sum() / len(df1)"
   ]
  },
  {
   "cell_type": "code",
   "execution_count": 59,
   "metadata": {},
   "outputs": [],
   "source": [
    "import statsmodels.api as sm "
   ]
  },
  {
   "cell_type": "code",
   "execution_count": 64,
   "metadata": {},
   "outputs": [],
   "source": [
    "ret_tick_st = np.array(ret_tick)\n",
    "ret_tick_st = (ret_tick_st - ret_tick_st.mean())/ret_tick_st.std()"
   ]
  },
  {
   "cell_type": "code",
   "execution_count": 66,
   "metadata": {},
   "outputs": [
    {
     "name": "stdout",
     "output_type": "stream",
     "text": [
      "\n"
     ]
    },
    {
     "data": {
      "image/png": "[encoded data removed]",
      "text/plain": [
       "<Figure size 640x480 with 1 Axes>"
      ]
     },
     "metadata": {},
     "output_type": "display_data"
    }
   ],
   "source": [
    "sm.qqplot(ret_tick_st, line='45')\n",
    "print(\"\")"
   ]
  },
  {
   "cell_type": "code",
   "execution_count": 67,
   "metadata": {},
   "outputs": [],
   "source": [
    "ret_vol_st = np.array(ret_vol)\n",
    "ret_vol_st = (ret_vol_st - ret_vol_st.mean())/ret_vol_st.std()"
   ]
  },
  {
   "cell_type": "code",
   "execution_count": 68,
   "metadata": {},
   "outputs": [
    {
     "data": {
      "image/png": "[encoded data removed]",
      "text/plain": [
       "<Figure size 640x480 with 1 Axes>"
      ]
     },
     "execution_count": 68,
     "metadata": {},
     "output_type": "execute_result"
    },
    {
     "data": {
      "image/png": "[encoded data removed]",
      "text/plain": [
       "<Figure size 640x480 with 1 Axes>"
      ]
     },
     "metadata": {},
     "output_type": "display_data"
    }
   ],
   "source": [
    "sm.qqplot(ret_vol_st, line='45')"
   ]
  },
  {
   "cell_type": "code",
   "execution_count": null,
   "metadata": {},
   "outputs": [],
   "source": []
  }
 ],
 "metadata": {
  "kernelspec": {
   "display_name": ".venv",
   "language": "python",
   "name": "python3"
  },
  "language_info": {
   "codemirror_mode": {
    "name": "ipython",
    "version": 3
   },
   "file_extension": ".py",
   "mimetype": "text/x-python",
   "name": "python",
   "nbconvert_exporter": "python",
   "pygments_lexer": "ipython3",
   "version": "3.11.5"
  }
 },
 "nbformat": 4,
 "nbformat_minor": 2
}
