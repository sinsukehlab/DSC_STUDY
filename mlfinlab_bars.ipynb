{
 "cells": [
  {
   "cell_type": "code",
   "execution_count": 1,
   "id": "455556d9",
   "metadata": {},
   "outputs": [],
   "source": [
    "import pandas as pd\n",
    "import numpy as np\n",
    "import seaborn as sns\n",
    "import matplotlib.pyplot as plt\n",
    "\n",
    "from statsmodels.graphics.tsaplots import plot_acf"
   ]
  },
  {
   "cell_type": "code",
   "execution_count": 2,
   "id": "8173c7d7",
   "metadata": {},
   "outputs": [
    {
     "name": "stdout",
     "output_type": "stream",
     "text": [
      "test\n"
     ]
    }
   ],
   "source": [
    "print(\"test\")"
   ]
  },
  {
   "cell_type": "code",
   "execution_count": 3,
   "id": "eb4ee497",
   "metadata": {},
   "outputs": [],
   "source": [
    "import mlfinlab"
   ]
  },
  {
   "cell_type": "code",
   "execution_count": 5,
   "id": "427e1490",
   "metadata": {},
   "outputs": [],
   "source": [
    "# from mlfinlab.data_structures_snapshot_tick.imbalance_data_structures import get_ema_tick_imbalance_bars, \\\n",
    "#     get_ema_volume_imbalance_bars\n",
    "# from mlfinlab.data_structures_snapshot_tick.run_data_structures import get_ema_tick_run_bars, \\\n",
    "#     get_ema_volume_run_bars"
   ]
  },
  {
   "cell_type": "code",
   "execution_count": 6,
   "id": "89514cfa",
   "metadata": {},
   "outputs": [
    {
     "data": {
      "text/plain": [
       "['__builtins__',\n",
       " '__cached__',\n",
       " '__doc__',\n",
       " '__file__',\n",
       " '__loader__',\n",
       " '__name__',\n",
       " '__package__',\n",
       " '__path__',\n",
       " '__spec__',\n",
       " 'backtest_statistics',\n",
       " 'backtests',\n",
       " 'bet_sizing',\n",
       " 'clustering',\n",
       " 'codependence',\n",
       " 'cross_validation',\n",
       " 'data_structures',\n",
       " 'datasets',\n",
       " 'ensemble',\n",
       " 'feature_importance',\n",
       " 'filters',\n",
       " 'fracdiff',\n",
       " 'labeling',\n",
       " 'microstructural_features',\n",
       " 'multi_product',\n",
       " 'online_portfolio_selection',\n",
       " 'portfolio_optimization',\n",
       " 'sample_weights',\n",
       " 'sampling',\n",
       " 'structural_breaks',\n",
       " 'util']"
      ]
     },
     "execution_count": 6,
     "metadata": {},
     "output_type": "execute_result"
    }
   ],
   "source": [
    "dir(mlfinlab)"
   ]
  },
  {
   "cell_type": "code",
   "execution_count": 7,
   "id": "0c7a80b0",
   "metadata": {},
   "outputs": [
    {
     "data": {
      "text/plain": [
       "['__builtins__',\n",
       " '__cached__',\n",
       " '__doc__',\n",
       " '__file__',\n",
       " '__loader__',\n",
       " '__name__',\n",
       " '__package__',\n",
       " '__path__',\n",
       " '__spec__',\n",
       " 'base_bars',\n",
       " 'get_const_dollar_imbalance_bars',\n",
       " 'get_const_dollar_run_bars',\n",
       " 'get_const_tick_imbalance_bars',\n",
       " 'get_const_tick_run_bars',\n",
       " 'get_const_volume_imbalance_bars',\n",
       " 'get_const_volume_run_bars',\n",
       " 'get_dollar_bars',\n",
       " 'get_ema_dollar_imbalance_bars',\n",
       " 'get_ema_dollar_run_bars',\n",
       " 'get_ema_tick_imbalance_bars',\n",
       " 'get_ema_tick_run_bars',\n",
       " 'get_ema_volume_imbalance_bars',\n",
       " 'get_ema_volume_run_bars',\n",
       " 'get_tick_bars',\n",
       " 'get_time_bars',\n",
       " 'get_volume_bars',\n",
       " 'imbalance_data_structures',\n",
       " 'run_data_structures',\n",
       " 'standard_data_structures',\n",
       " 'time_data_structures']"
      ]
     },
     "execution_count": 7,
     "metadata": {},
     "output_type": "execute_result"
    }
   ],
   "source": [
    "dir(mlfinlab.data_structures)"
   ]
  },
  {
   "cell_type": "code",
   "execution_count": 8,
   "id": "513476b4",
   "metadata": {},
   "outputs": [],
   "source": [
    "from mlfinlab.data_structures.imbalance_data_structures import get_ema_tick_imbalance_bars, \\\n",
    "    get_ema_volume_imbalance_bars\n"
   ]
  },
  {
   "cell_type": "code",
   "execution_count": 9,
   "id": "5cc98b1d",
   "metadata": {},
   "outputs": [],
   "source": [
    "from mlfinlab.data_structures.run_data_structures import get_ema_tick_run_bars, \\\n",
    "    get_ema_volume_run_bars"
   ]
  },
  {
   "cell_type": "code",
   "execution_count": null,
   "id": "51c009d4",
   "metadata": {},
   "outputs": [],
   "source": []
  },
  {
   "cell_type": "code",
   "execution_count": 10,
   "id": "41f1297e",
   "metadata": {},
   "outputs": [],
   "source": [
    "def get_data_df(df_path):\n",
    "    df = pd.read_csv(df_path)\n",
    "    notnan_cond = ~df.Volume.isnull()\n",
    "    df = df[notnan_cond].copy()\n",
    "    d_list = df[\"Date[L]\"]\n",
    "    t_list = df[\"Time[L]\"]\n",
    "    dt_list = [d+\" \"+t for d,t in zip(d_list, t_list)]\n",
    "    dtt_list = pd.to_datetime(dt_list, format='%d-%b-%Y %H:%M:%S.%f')\n",
    "    df[\"date_time\"] = dtt_list\n",
    "    df.set_index('date_time', inplace=True)\n",
    "    return df[[\"Price\", \"Volume\"]].rename(columns={'Price': 'price', 'Volume': 'volume'})\n"
   ]
  },
  {
   "cell_type": "code",
   "execution_count": null,
   "id": "b4b46323",
   "metadata": {},
   "outputs": [],
   "source": []
  },
  {
   "cell_type": "code",
   "execution_count": null,
   "id": "6f9ae530",
   "metadata": {},
   "outputs": [],
   "source": [
    "# df_path = \"INDICES200601-20081231-N105804263-part001_head.csv\"\n",
    "df_path = \"INDICES200601-20081231-N105804263-part001.csv\"\n",
    "tick_df = get_data_df(df_path)"
   ]
  },
  {
   "cell_type": "code",
   "execution_count": 12,
   "id": "7da1f6f0",
   "metadata": {},
   "outputs": [
    {
     "name": "stdout",
     "output_type": "stream",
     "text": [
      "(99740, 2)\n",
      "                               price      volume\n",
      "date_time                                       \n",
      "2006-01-03 10:00:17.037121  14843.97         0.0\n",
      "2006-01-03 10:00:17.339836  14843.97  19649233.0\n",
      "2006-01-03 10:00:31.900701  14850.92  19649233.0\n",
      "2006-01-03 10:00:32.101860  14850.92  19868433.0\n",
      "2006-01-03 10:00:47.771052  14846.30  19868433.0\n"
     ]
    }
   ],
   "source": [
    "print(tick_df.shape)\n",
    "print(tick_df.head())"
   ]
  },
  {
   "cell_type": "code",
   "execution_count": 13,
   "id": "4e02f83b",
   "metadata": {},
   "outputs": [],
   "source": [
    "def generate_time_bars(df):\n",
    "    return pd.DataFrame(df['price'].resample('5min').ohlc().dropna())"
   ]
  },
  {
   "cell_type": "code",
   "execution_count": 14,
   "id": "8a0a6100",
   "metadata": {},
   "outputs": [],
   "source": [
    "time_bars = generate_time_bars(tick_df)"
   ]
  },
  {
   "cell_type": "code",
   "execution_count": 15,
   "id": "f069975e",
   "metadata": {},
   "outputs": [
    {
     "data": {
      "text/plain": [
       "<AxesSubplot: xlabel='date_time'>"
      ]
     },
     "execution_count": 15,
     "metadata": {},
     "output_type": "execute_result"
    },
    {
     "data": {
      "image/png": "[encoded data removed]",
      "text/plain": [
       "<Figure size 640x480 with 1 Axes>"
      ]
     },
     "metadata": {},
     "output_type": "display_data"
    }
   ],
   "source": [
    "time_bars['close'].plot()"
   ]
  },
  {
   "cell_type": "code",
   "execution_count": 16,
   "id": "e8ab2808",
   "metadata": {},
   "outputs": [
    {
     "data": {
      "text/html": [
       "<div>\n",
       "<style scoped>\n",
       "    .dataframe tbody tr th:only-of-type {\n",
       "        vertical-align: middle;\n",
       "    }\n",
       "\n",
       "    .dataframe tbody tr th {\n",
       "        vertical-align: top;\n",
       "    }\n",
       "\n",
       "    .dataframe thead th {\n",
       "        text-align: right;\n",
       "    }\n",
       "</style>\n",
       "<table border=\"1\" class=\"dataframe\">\n",
       "  <thead>\n",
       "    <tr style=\"text-align: right;\">\n",
       "      <th></th>\n",
       "      <th>price</th>\n",
       "      <th>volume</th>\n",
       "    </tr>\n",
       "    <tr>\n",
       "      <th>date_time</th>\n",
       "      <th></th>\n",
       "      <th></th>\n",
       "    </tr>\n",
       "  </thead>\n",
       "  <tbody>\n",
       "    <tr>\n",
       "      <th>2006-01-03 10:00:17.037121</th>\n",
       "      <td>14843.97</td>\n",
       "      <td>0.0</td>\n",
       "    </tr>\n",
       "    <tr>\n",
       "      <th>2006-01-03 10:00:17.339836</th>\n",
       "      <td>14843.97</td>\n",
       "      <td>19649233.0</td>\n",
       "    </tr>\n",
       "    <tr>\n",
       "      <th>2006-01-03 10:00:31.900701</th>\n",
       "      <td>14850.92</td>\n",
       "      <td>19649233.0</td>\n",
       "    </tr>\n",
       "    <tr>\n",
       "      <th>2006-01-03 10:00:32.101860</th>\n",
       "      <td>14850.92</td>\n",
       "      <td>19868433.0</td>\n",
       "    </tr>\n",
       "    <tr>\n",
       "      <th>2006-01-03 10:00:47.771052</th>\n",
       "      <td>14846.30</td>\n",
       "      <td>19868433.0</td>\n",
       "    </tr>\n",
       "    <tr>\n",
       "      <th>...</th>\n",
       "      <td>...</td>\n",
       "      <td>...</td>\n",
       "    </tr>\n",
       "    <tr>\n",
       "      <th>2006-03-17 15:48:18.421479</th>\n",
       "      <td>15845.78</td>\n",
       "      <td>362618701.0</td>\n",
       "    </tr>\n",
       "    <tr>\n",
       "      <th>2006-03-17 15:48:18.725170</th>\n",
       "      <td>15845.78</td>\n",
       "      <td>364509868.0</td>\n",
       "    </tr>\n",
       "    <tr>\n",
       "      <th>2006-03-17 15:48:33.476453</th>\n",
       "      <td>15842.87</td>\n",
       "      <td>364509868.0</td>\n",
       "    </tr>\n",
       "    <tr>\n",
       "      <th>2006-03-17 15:48:33.981303</th>\n",
       "      <td>15842.87</td>\n",
       "      <td>366932893.0</td>\n",
       "    </tr>\n",
       "    <tr>\n",
       "      <th>2006-03-17 15:48:48.419129</th>\n",
       "      <td>15845.97</td>\n",
       "      <td>366932893.0</td>\n",
       "    </tr>\n",
       "  </tbody>\n",
       "</table>\n",
       "<p>99740 rows × 2 columns</p>\n",
       "</div>"
      ],
      "text/plain": [
       "                               price       volume\n",
       "date_time                                        \n",
       "2006-01-03 10:00:17.037121  14843.97          0.0\n",
       "2006-01-03 10:00:17.339836  14843.97   19649233.0\n",
       "2006-01-03 10:00:31.900701  14850.92   19649233.0\n",
       "2006-01-03 10:00:32.101860  14850.92   19868433.0\n",
       "2006-01-03 10:00:47.771052  14846.30   19868433.0\n",
       "...                              ...          ...\n",
       "2006-03-17 15:48:18.421479  15845.78  362618701.0\n",
       "2006-03-17 15:48:18.725170  15845.78  364509868.0\n",
       "2006-03-17 15:48:33.476453  15842.87  364509868.0\n",
       "2006-03-17 15:48:33.981303  15842.87  366932893.0\n",
       "2006-03-17 15:48:48.419129  15845.97  366932893.0\n",
       "\n",
       "[99740 rows x 2 columns]"
      ]
     },
     "execution_count": 16,
     "metadata": {},
     "output_type": "execute_result"
    }
   ],
   "source": [
    "tick_df"
   ]
  },
  {
   "cell_type": "code",
   "execution_count": 37,
   "id": "0ceafefd",
   "metadata": {},
   "outputs": [
    {
     "data": {
      "text/html": [
       "<div>\n",
       "<style scoped>\n",
       "    .dataframe tbody tr th:only-of-type {\n",
       "        vertical-align: middle;\n",
       "    }\n",
       "\n",
       "    .dataframe tbody tr th {\n",
       "        vertical-align: top;\n",
       "    }\n",
       "\n",
       "    .dataframe thead th {\n",
       "        text-align: right;\n",
       "    }\n",
       "</style>\n",
       "<table border=\"1\" class=\"dataframe\">\n",
       "  <thead>\n",
       "    <tr style=\"text-align: right;\">\n",
       "      <th></th>\n",
       "      <th>price</th>\n",
       "      <th>volume</th>\n",
       "    </tr>\n",
       "    <tr>\n",
       "      <th>date_time</th>\n",
       "      <th></th>\n",
       "      <th></th>\n",
       "    </tr>\n",
       "  </thead>\n",
       "  <tbody>\n",
       "    <tr>\n",
       "      <th>2006-01-03 10:00:17.037121</th>\n",
       "      <td>14843.97</td>\n",
       "      <td>0.0</td>\n",
       "    </tr>\n",
       "    <tr>\n",
       "      <th>2006-01-03 10:00:17.339836</th>\n",
       "      <td>14843.97</td>\n",
       "      <td>19649233.0</td>\n",
       "    </tr>\n",
       "    <tr>\n",
       "      <th>2006-01-03 10:00:31.900701</th>\n",
       "      <td>14850.92</td>\n",
       "      <td>19649233.0</td>\n",
       "    </tr>\n",
       "    <tr>\n",
       "      <th>2006-01-03 10:00:32.101860</th>\n",
       "      <td>14850.92</td>\n",
       "      <td>19868433.0</td>\n",
       "    </tr>\n",
       "    <tr>\n",
       "      <th>2006-01-03 10:00:47.771052</th>\n",
       "      <td>14846.30</td>\n",
       "      <td>19868433.0</td>\n",
       "    </tr>\n",
       "    <tr>\n",
       "      <th>...</th>\n",
       "      <td>...</td>\n",
       "      <td>...</td>\n",
       "    </tr>\n",
       "    <tr>\n",
       "      <th>2006-03-17 15:48:18.421479</th>\n",
       "      <td>15845.78</td>\n",
       "      <td>362618701.0</td>\n",
       "    </tr>\n",
       "    <tr>\n",
       "      <th>2006-03-17 15:48:18.725170</th>\n",
       "      <td>15845.78</td>\n",
       "      <td>364509868.0</td>\n",
       "    </tr>\n",
       "    <tr>\n",
       "      <th>2006-03-17 15:48:33.476453</th>\n",
       "      <td>15842.87</td>\n",
       "      <td>364509868.0</td>\n",
       "    </tr>\n",
       "    <tr>\n",
       "      <th>2006-03-17 15:48:33.981303</th>\n",
       "      <td>15842.87</td>\n",
       "      <td>366932893.0</td>\n",
       "    </tr>\n",
       "    <tr>\n",
       "      <th>2006-03-17 15:48:48.419129</th>\n",
       "      <td>15845.97</td>\n",
       "      <td>366932893.0</td>\n",
       "    </tr>\n",
       "  </tbody>\n",
       "</table>\n",
       "<p>99740 rows × 2 columns</p>\n",
       "</div>"
      ],
      "text/plain": [
       "                               price       volume\n",
       "date_time                                        \n",
       "2006-01-03 10:00:17.037121  14843.97          0.0\n",
       "2006-01-03 10:00:17.339836  14843.97   19649233.0\n",
       "2006-01-03 10:00:31.900701  14850.92   19649233.0\n",
       "2006-01-03 10:00:32.101860  14850.92   19868433.0\n",
       "2006-01-03 10:00:47.771052  14846.30   19868433.0\n",
       "...                              ...          ...\n",
       "2006-03-17 15:48:18.421479  15845.78  362618701.0\n",
       "2006-03-17 15:48:18.725170  15845.78  364509868.0\n",
       "2006-03-17 15:48:33.476453  15842.87  364509868.0\n",
       "2006-03-17 15:48:33.981303  15842.87  366932893.0\n",
       "2006-03-17 15:48:48.419129  15845.97  366932893.0\n",
       "\n",
       "[99740 rows x 2 columns]"
      ]
     },
     "execution_count": 37,
     "metadata": {},
     "output_type": "execute_result"
    }
   ],
   "source": [
    "tick_df"
   ]
  },
  {
   "cell_type": "code",
   "execution_count": 32,
   "id": "d1d1e1a8",
   "metadata": {},
   "outputs": [
    {
     "name": "stdout",
     "output_type": "stream",
     "text": [
      "Reading data in batches:\n",
      "Batch number: 0\n",
      "Returning bars \n",
      "\n"
     ]
    }
   ],
   "source": [
    "ret = get_ema_tick_imbalance_bars(tick_df.reset_index(), analyse_thresholds=True,\n",
    "                                 exp_num_ticks_constraints=[800, 80000])"
   ]
  },
  {
   "cell_type": "code",
   "execution_count": 35,
   "id": "59ed250e",
   "metadata": {},
   "outputs": [
    {
     "data": {
      "text/html": [
       "<div>\n",
       "<style scoped>\n",
       "    .dataframe tbody tr th:only-of-type {\n",
       "        vertical-align: middle;\n",
       "    }\n",
       "\n",
       "    .dataframe tbody tr th {\n",
       "        vertical-align: top;\n",
       "    }\n",
       "\n",
       "    .dataframe thead th {\n",
       "        text-align: right;\n",
       "    }\n",
       "</style>\n",
       "<table border=\"1\" class=\"dataframe\">\n",
       "  <thead>\n",
       "    <tr style=\"text-align: right;\">\n",
       "      <th></th>\n",
       "      <th>date_time</th>\n",
       "      <th>tick_num</th>\n",
       "      <th>open</th>\n",
       "      <th>high</th>\n",
       "      <th>low</th>\n",
       "      <th>close</th>\n",
       "      <th>volume</th>\n",
       "      <th>cum_buy_volume</th>\n",
       "      <th>cum_ticks</th>\n",
       "      <th>cum_dollar_value</th>\n",
       "    </tr>\n",
       "  </thead>\n",
       "  <tbody>\n",
       "    <tr>\n",
       "      <th>0</th>\n",
       "      <td>2006-02-23 15:53:33.486578</td>\n",
       "      <td>69062</td>\n",
       "      <td>14843.97</td>\n",
       "      <td>15849.86</td>\n",
       "      <td>14843.97</td>\n",
       "      <td>15808.78</td>\n",
       "      <td>1.570169e+13</td>\n",
       "      <td>7.919485e+12</td>\n",
       "      <td>69062</td>\n",
       "      <td>2.438276e+17</td>\n",
       "    </tr>\n",
       "  </tbody>\n",
       "</table>\n",
       "</div>"
      ],
      "text/plain": [
       "                   date_time  tick_num      open      high       low  \\\n",
       "0 2006-02-23 15:53:33.486578     69062  14843.97  15849.86  14843.97   \n",
       "\n",
       "      close        volume  cum_buy_volume  cum_ticks  cum_dollar_value  \n",
       "0  15808.78  1.570169e+13    7.919485e+12      69062      2.438276e+17  "
      ]
     },
     "execution_count": 35,
     "metadata": {},
     "output_type": "execute_result"
    }
   ],
   "source": [
    "# ret[0]tick_numが69062なのでret[1]の69062から一回かわっているだけ\n",
    "ret[0]"
   ]
  },
  {
   "cell_type": "code",
   "execution_count": 36,
   "id": "613f9e4d",
   "metadata": {},
   "outputs": [
    {
     "data": {
      "text/html": [
       "<div>\n",
       "<style scoped>\n",
       "    .dataframe tbody tr th:only-of-type {\n",
       "        vertical-align: middle;\n",
       "    }\n",
       "\n",
       "    .dataframe tbody tr th {\n",
       "        vertical-align: top;\n",
       "    }\n",
       "\n",
       "    .dataframe thead th {\n",
       "        text-align: right;\n",
       "    }\n",
       "</style>\n",
       "<table border=\"1\" class=\"dataframe\">\n",
       "  <thead>\n",
       "    <tr style=\"text-align: right;\">\n",
       "      <th></th>\n",
       "      <th>cum_theta</th>\n",
       "      <th>expected_imbalance</th>\n",
       "      <th>exp_num_ticks</th>\n",
       "      <th>timestamp</th>\n",
       "    </tr>\n",
       "  </thead>\n",
       "  <tbody>\n",
       "    <tr>\n",
       "      <th>0</th>\n",
       "      <td>0.0</td>\n",
       "      <td>NaN</td>\n",
       "      <td>20000.0</td>\n",
       "      <td>2006-01-03 10:00:17.037121</td>\n",
       "    </tr>\n",
       "    <tr>\n",
       "      <th>1</th>\n",
       "      <td>0.0</td>\n",
       "      <td>NaN</td>\n",
       "      <td>20000.0</td>\n",
       "      <td>2006-01-03 10:00:17.339836</td>\n",
       "    </tr>\n",
       "    <tr>\n",
       "      <th>2</th>\n",
       "      <td>1.0</td>\n",
       "      <td>NaN</td>\n",
       "      <td>20000.0</td>\n",
       "      <td>2006-01-03 10:00:31.900701</td>\n",
       "    </tr>\n",
       "    <tr>\n",
       "      <th>3</th>\n",
       "      <td>2.0</td>\n",
       "      <td>NaN</td>\n",
       "      <td>20000.0</td>\n",
       "      <td>2006-01-03 10:00:32.101860</td>\n",
       "    </tr>\n",
       "    <tr>\n",
       "      <th>4</th>\n",
       "      <td>1.0</td>\n",
       "      <td>NaN</td>\n",
       "      <td>20000.0</td>\n",
       "      <td>2006-01-03 10:00:47.771052</td>\n",
       "    </tr>\n",
       "    <tr>\n",
       "      <th>...</th>\n",
       "      <td>...</td>\n",
       "      <td>...</td>\n",
       "      <td>...</td>\n",
       "      <td>...</td>\n",
       "    </tr>\n",
       "    <tr>\n",
       "      <th>99735</th>\n",
       "      <td>322.0</td>\n",
       "      <td>0.025694</td>\n",
       "      <td>69062.0</td>\n",
       "      <td>2006-03-17 15:48:18.421479</td>\n",
       "    </tr>\n",
       "    <tr>\n",
       "      <th>99736</th>\n",
       "      <td>323.0</td>\n",
       "      <td>0.025694</td>\n",
       "      <td>69062.0</td>\n",
       "      <td>2006-03-17 15:48:18.725170</td>\n",
       "    </tr>\n",
       "    <tr>\n",
       "      <th>99737</th>\n",
       "      <td>322.0</td>\n",
       "      <td>0.025694</td>\n",
       "      <td>69062.0</td>\n",
       "      <td>2006-03-17 15:48:33.476453</td>\n",
       "    </tr>\n",
       "    <tr>\n",
       "      <th>99738</th>\n",
       "      <td>321.0</td>\n",
       "      <td>0.025694</td>\n",
       "      <td>69062.0</td>\n",
       "      <td>2006-03-17 15:48:33.981303</td>\n",
       "    </tr>\n",
       "    <tr>\n",
       "      <th>99739</th>\n",
       "      <td>322.0</td>\n",
       "      <td>0.025694</td>\n",
       "      <td>69062.0</td>\n",
       "      <td>2006-03-17 15:48:48.419129</td>\n",
       "    </tr>\n",
       "  </tbody>\n",
       "</table>\n",
       "<p>99740 rows × 4 columns</p>\n",
       "</div>"
      ],
      "text/plain": [
       "       cum_theta  expected_imbalance  exp_num_ticks                  timestamp\n",
       "0            0.0                 NaN        20000.0 2006-01-03 10:00:17.037121\n",
       "1            0.0                 NaN        20000.0 2006-01-03 10:00:17.339836\n",
       "2            1.0                 NaN        20000.0 2006-01-03 10:00:31.900701\n",
       "3            2.0                 NaN        20000.0 2006-01-03 10:00:32.101860\n",
       "4            1.0                 NaN        20000.0 2006-01-03 10:00:47.771052\n",
       "...          ...                 ...            ...                        ...\n",
       "99735      322.0            0.025694        69062.0 2006-03-17 15:48:18.421479\n",
       "99736      323.0            0.025694        69062.0 2006-03-17 15:48:18.725170\n",
       "99737      322.0            0.025694        69062.0 2006-03-17 15:48:33.476453\n",
       "99738      321.0            0.025694        69062.0 2006-03-17 15:48:33.981303\n",
       "99739      322.0            0.025694        69062.0 2006-03-17 15:48:48.419129\n",
       "\n",
       "[99740 rows x 4 columns]"
      ]
     },
     "execution_count": 36,
     "metadata": {},
     "output_type": "execute_result"
    }
   ],
   "source": [
    "ret[1]"
   ]
  },
  {
   "cell_type": "code",
   "execution_count": 39,
   "id": "4d279c4d",
   "metadata": {},
   "outputs": [
    {
     "data": {
      "text/plain": [
       "[<matplotlib.lines.Line2D at 0x7fbd08fdfc40>]"
      ]
     },
     "execution_count": 39,
     "metadata": {},
     "output_type": "execute_result"
    },
    {
     "data": {
      "image/png": "[encoded data removed]",
      "text/plain": [
       "<Figure size 640x480 with 1 Axes>"
      ]
     },
     "metadata": {},
     "output_type": "display_data"
    }
   ],
   "source": [
    "plt.plot(ret[1].expected_imbalance)"
   ]
  },
  {
   "cell_type": "code",
   "execution_count": 40,
   "id": "9ffccce9",
   "metadata": {},
   "outputs": [
    {
     "name": "stdout",
     "output_type": "stream",
     "text": [
      "Reading data in batches:\n",
      "Batch number: 0\n",
      "Returning bars \n",
      "\n"
     ]
    }
   ],
   "source": [
    "ret = get_ema_tick_imbalance_bars(tick_df.reset_index(), analyse_thresholds=True,\n",
    "                                 exp_num_ticks_constraints=[80, 80000], expected_imbalance_window=1000, exp_num_ticks_init=2000)\n"
   ]
  },
  {
   "cell_type": "code",
   "execution_count": 41,
   "id": "5ba41c6a",
   "metadata": {},
   "outputs": [
    {
     "data": {
      "text/html": [
       "<div>\n",
       "<style scoped>\n",
       "    .dataframe tbody tr th:only-of-type {\n",
       "        vertical-align: middle;\n",
       "    }\n",
       "\n",
       "    .dataframe tbody tr th {\n",
       "        vertical-align: top;\n",
       "    }\n",
       "\n",
       "    .dataframe thead th {\n",
       "        text-align: right;\n",
       "    }\n",
       "</style>\n",
       "<table border=\"1\" class=\"dataframe\">\n",
       "  <thead>\n",
       "    <tr style=\"text-align: right;\">\n",
       "      <th></th>\n",
       "      <th>date_time</th>\n",
       "      <th>tick_num</th>\n",
       "      <th>open</th>\n",
       "      <th>high</th>\n",
       "      <th>low</th>\n",
       "      <th>close</th>\n",
       "      <th>volume</th>\n",
       "      <th>cum_buy_volume</th>\n",
       "      <th>cum_ticks</th>\n",
       "      <th>cum_dollar_value</th>\n",
       "    </tr>\n",
       "  </thead>\n",
       "  <tbody>\n",
       "    <tr>\n",
       "      <th>0</th>\n",
       "      <td>2006-01-04 10:10:17.510979</td>\n",
       "      <td>2000</td>\n",
       "      <td>14843.97</td>\n",
       "      <td>15135.10</td>\n",
       "      <td>14843.97</td>\n",
       "      <td>15135.10</td>\n",
       "      <td>2.220212e+11</td>\n",
       "      <td>1.137270e+11</td>\n",
       "      <td>2000</td>\n",
       "      <td>3.313234e+15</td>\n",
       "    </tr>\n",
       "    <tr>\n",
       "      <th>1</th>\n",
       "      <td>2006-01-04 10:16:47.561537</td>\n",
       "      <td>2052</td>\n",
       "      <td>15135.10</td>\n",
       "      <td>15135.45</td>\n",
       "      <td>15106.72</td>\n",
       "      <td>15108.12</td>\n",
       "      <td>4.201256e+09</td>\n",
       "      <td>1.685548e+09</td>\n",
       "      <td>52</td>\n",
       "      <td>6.352545e+13</td>\n",
       "    </tr>\n",
       "    <tr>\n",
       "      <th>2</th>\n",
       "      <td>2006-01-04 10:26:17.861092</td>\n",
       "      <td>2129</td>\n",
       "      <td>15108.12</td>\n",
       "      <td>15110.61</td>\n",
       "      <td>15090.61</td>\n",
       "      <td>15091.18</td>\n",
       "      <td>7.692060e+09</td>\n",
       "      <td>2.969066e+09</td>\n",
       "      <td>77</td>\n",
       "      <td>1.161365e+14</td>\n",
       "    </tr>\n",
       "    <tr>\n",
       "      <th>3</th>\n",
       "      <td>2006-01-04 10:46:47.826685</td>\n",
       "      <td>2293</td>\n",
       "      <td>15085.49</td>\n",
       "      <td>15110.20</td>\n",
       "      <td>15085.44</td>\n",
       "      <td>15107.98</td>\n",
       "      <td>1.992353e+10</td>\n",
       "      <td>1.122219e+10</td>\n",
       "      <td>164</td>\n",
       "      <td>3.008839e+14</td>\n",
       "    </tr>\n",
       "    <tr>\n",
       "      <th>4</th>\n",
       "      <td>2006-01-04 10:47:02.525236</td>\n",
       "      <td>2294</td>\n",
       "      <td>15108.92</td>\n",
       "      <td>15108.92</td>\n",
       "      <td>15108.92</td>\n",
       "      <td>15108.92</td>\n",
       "      <td>1.341851e+08</td>\n",
       "      <td>1.341851e+08</td>\n",
       "      <td>1</td>\n",
       "      <td>2.027392e+12</td>\n",
       "    </tr>\n",
       "    <tr>\n",
       "      <th>...</th>\n",
       "      <td>...</td>\n",
       "      <td>...</td>\n",
       "      <td>...</td>\n",
       "      <td>...</td>\n",
       "      <td>...</td>\n",
       "      <td>...</td>\n",
       "      <td>...</td>\n",
       "      <td>...</td>\n",
       "      <td>...</td>\n",
       "      <td>...</td>\n",
       "    </tr>\n",
       "    <tr>\n",
       "      <th>9496</th>\n",
       "      <td>2006-01-26 15:50:34.501907</td>\n",
       "      <td>34480</td>\n",
       "      <td>15513.55</td>\n",
       "      <td>15517.30</td>\n",
       "      <td>15492.19</td>\n",
       "      <td>15510.32</td>\n",
       "      <td>6.205883e+10</td>\n",
       "      <td>3.399899e+10</td>\n",
       "      <td>207</td>\n",
       "      <td>9.624242e+14</td>\n",
       "    </tr>\n",
       "    <tr>\n",
       "      <th>9497</th>\n",
       "      <td>2006-01-27 14:30:32.890934</td>\n",
       "      <td>35760</td>\n",
       "      <td>15510.32</td>\n",
       "      <td>15742.26</td>\n",
       "      <td>15500.53</td>\n",
       "      <td>15742.26</td>\n",
       "      <td>4.955122e+11</td>\n",
       "      <td>2.546944e+11</td>\n",
       "      <td>1280</td>\n",
       "      <td>7.765374e+15</td>\n",
       "    </tr>\n",
       "    <tr>\n",
       "      <th>9498</th>\n",
       "      <td>2006-02-01 15:33:18.464111</td>\n",
       "      <td>38183</td>\n",
       "      <td>15742.26</td>\n",
       "      <td>15808.18</td>\n",
       "      <td>15653.90</td>\n",
       "      <td>15741.08</td>\n",
       "      <td>9.218894e+11</td>\n",
       "      <td>4.735307e+11</td>\n",
       "      <td>2423</td>\n",
       "      <td>1.450840e+16</td>\n",
       "    </tr>\n",
       "    <tr>\n",
       "      <th>9499</th>\n",
       "      <td>2006-02-07 10:22:02.587334</td>\n",
       "      <td>44331</td>\n",
       "      <td>15743.07</td>\n",
       "      <td>15775.65</td>\n",
       "      <td>15374.89</td>\n",
       "      <td>15519.63</td>\n",
       "      <td>1.647222e+12</td>\n",
       "      <td>8.514377e+11</td>\n",
       "      <td>6148</td>\n",
       "      <td>2.563833e+16</td>\n",
       "    </tr>\n",
       "    <tr>\n",
       "      <th>9500</th>\n",
       "      <td>2006-03-14 11:02:17.731168</td>\n",
       "      <td>92648</td>\n",
       "      <td>15516.75</td>\n",
       "      <td>15999.31</td>\n",
       "      <td>15240.95</td>\n",
       "      <td>15510.46</td>\n",
       "      <td>8.661928e+12</td>\n",
       "      <td>4.356421e+12</td>\n",
       "      <td>48317</td>\n",
       "      <td>1.349350e+17</td>\n",
       "    </tr>\n",
       "  </tbody>\n",
       "</table>\n",
       "<p>9501 rows × 10 columns</p>\n",
       "</div>"
      ],
      "text/plain": [
       "                      date_time  tick_num      open      high       low  \\\n",
       "0    2006-01-04 10:10:17.510979      2000  14843.97  15135.10  14843.97   \n",
       "1    2006-01-04 10:16:47.561537      2052  15135.10  15135.45  15106.72   \n",
       "2    2006-01-04 10:26:17.861092      2129  15108.12  15110.61  15090.61   \n",
       "3    2006-01-04 10:46:47.826685      2293  15085.49  15110.20  15085.44   \n",
       "4    2006-01-04 10:47:02.525236      2294  15108.92  15108.92  15108.92   \n",
       "...                         ...       ...       ...       ...       ...   \n",
       "9496 2006-01-26 15:50:34.501907     34480  15513.55  15517.30  15492.19   \n",
       "9497 2006-01-27 14:30:32.890934     35760  15510.32  15742.26  15500.53   \n",
       "9498 2006-02-01 15:33:18.464111     38183  15742.26  15808.18  15653.90   \n",
       "9499 2006-02-07 10:22:02.587334     44331  15743.07  15775.65  15374.89   \n",
       "9500 2006-03-14 11:02:17.731168     92648  15516.75  15999.31  15240.95   \n",
       "\n",
       "         close        volume  cum_buy_volume  cum_ticks  cum_dollar_value  \n",
       "0     15135.10  2.220212e+11    1.137270e+11       2000      3.313234e+15  \n",
       "1     15108.12  4.201256e+09    1.685548e+09         52      6.352545e+13  \n",
       "2     15091.18  7.692060e+09    2.969066e+09         77      1.161365e+14  \n",
       "3     15107.98  1.992353e+10    1.122219e+10        164      3.008839e+14  \n",
       "4     15108.92  1.341851e+08    1.341851e+08          1      2.027392e+12  \n",
       "...        ...           ...             ...        ...               ...  \n",
       "9496  15510.32  6.205883e+10    3.399899e+10        207      9.624242e+14  \n",
       "9497  15742.26  4.955122e+11    2.546944e+11       1280      7.765374e+15  \n",
       "9498  15741.08  9.218894e+11    4.735307e+11       2423      1.450840e+16  \n",
       "9499  15519.63  1.647222e+12    8.514377e+11       6148      2.563833e+16  \n",
       "9500  15510.46  8.661928e+12    4.356421e+12      48317      1.349350e+17  \n",
       "\n",
       "[9501 rows x 10 columns]"
      ]
     },
     "execution_count": 41,
     "metadata": {},
     "output_type": "execute_result"
    }
   ],
   "source": [
    "ret[0]"
   ]
  },
  {
   "cell_type": "code",
   "execution_count": 42,
   "id": "36e435d6",
   "metadata": {},
   "outputs": [
    {
     "data": {
      "text/html": [
       "<div>\n",
       "<style scoped>\n",
       "    .dataframe tbody tr th:only-of-type {\n",
       "        vertical-align: middle;\n",
       "    }\n",
       "\n",
       "    .dataframe tbody tr th {\n",
       "        vertical-align: top;\n",
       "    }\n",
       "\n",
       "    .dataframe thead th {\n",
       "        text-align: right;\n",
       "    }\n",
       "</style>\n",
       "<table border=\"1\" class=\"dataframe\">\n",
       "  <thead>\n",
       "    <tr style=\"text-align: right;\">\n",
       "      <th></th>\n",
       "      <th>cum_theta</th>\n",
       "      <th>expected_imbalance</th>\n",
       "      <th>exp_num_ticks</th>\n",
       "      <th>timestamp</th>\n",
       "    </tr>\n",
       "  </thead>\n",
       "  <tbody>\n",
       "    <tr>\n",
       "      <th>0</th>\n",
       "      <td>0.0</td>\n",
       "      <td>NaN</td>\n",
       "      <td>2000.000000</td>\n",
       "      <td>2006-01-03 10:00:17.037121</td>\n",
       "    </tr>\n",
       "    <tr>\n",
       "      <th>1</th>\n",
       "      <td>0.0</td>\n",
       "      <td>NaN</td>\n",
       "      <td>2000.000000</td>\n",
       "      <td>2006-01-03 10:00:17.339836</td>\n",
       "    </tr>\n",
       "    <tr>\n",
       "      <th>2</th>\n",
       "      <td>1.0</td>\n",
       "      <td>NaN</td>\n",
       "      <td>2000.000000</td>\n",
       "      <td>2006-01-03 10:00:31.900701</td>\n",
       "    </tr>\n",
       "    <tr>\n",
       "      <th>3</th>\n",
       "      <td>2.0</td>\n",
       "      <td>NaN</td>\n",
       "      <td>2000.000000</td>\n",
       "      <td>2006-01-03 10:00:32.101860</td>\n",
       "    </tr>\n",
       "    <tr>\n",
       "      <th>4</th>\n",
       "      <td>1.0</td>\n",
       "      <td>NaN</td>\n",
       "      <td>2000.000000</td>\n",
       "      <td>2006-01-03 10:00:47.771052</td>\n",
       "    </tr>\n",
       "    <tr>\n",
       "      <th>...</th>\n",
       "      <td>...</td>\n",
       "      <td>...</td>\n",
       "      <td>...</td>\n",
       "      <td>...</td>\n",
       "    </tr>\n",
       "    <tr>\n",
       "      <th>99735</th>\n",
       "      <td>200.0</td>\n",
       "      <td>0.144712</td>\n",
       "      <td>29712.428571</td>\n",
       "      <td>2006-03-17 15:48:18.421479</td>\n",
       "    </tr>\n",
       "    <tr>\n",
       "      <th>99736</th>\n",
       "      <td>201.0</td>\n",
       "      <td>0.144712</td>\n",
       "      <td>29712.428571</td>\n",
       "      <td>2006-03-17 15:48:18.725170</td>\n",
       "    </tr>\n",
       "    <tr>\n",
       "      <th>99737</th>\n",
       "      <td>200.0</td>\n",
       "      <td>0.144712</td>\n",
       "      <td>29712.428571</td>\n",
       "      <td>2006-03-17 15:48:33.476453</td>\n",
       "    </tr>\n",
       "    <tr>\n",
       "      <th>99738</th>\n",
       "      <td>199.0</td>\n",
       "      <td>0.144712</td>\n",
       "      <td>29712.428571</td>\n",
       "      <td>2006-03-17 15:48:33.981303</td>\n",
       "    </tr>\n",
       "    <tr>\n",
       "      <th>99739</th>\n",
       "      <td>200.0</td>\n",
       "      <td>0.144712</td>\n",
       "      <td>29712.428571</td>\n",
       "      <td>2006-03-17 15:48:48.419129</td>\n",
       "    </tr>\n",
       "  </tbody>\n",
       "</table>\n",
       "<p>99740 rows × 4 columns</p>\n",
       "</div>"
      ],
      "text/plain": [
       "       cum_theta  expected_imbalance  exp_num_ticks                  timestamp\n",
       "0            0.0                 NaN    2000.000000 2006-01-03 10:00:17.037121\n",
       "1            0.0                 NaN    2000.000000 2006-01-03 10:00:17.339836\n",
       "2            1.0                 NaN    2000.000000 2006-01-03 10:00:31.900701\n",
       "3            2.0                 NaN    2000.000000 2006-01-03 10:00:32.101860\n",
       "4            1.0                 NaN    2000.000000 2006-01-03 10:00:47.771052\n",
       "...          ...                 ...            ...                        ...\n",
       "99735      200.0            0.144712   29712.428571 2006-03-17 15:48:18.421479\n",
       "99736      201.0            0.144712   29712.428571 2006-03-17 15:48:18.725170\n",
       "99737      200.0            0.144712   29712.428571 2006-03-17 15:48:33.476453\n",
       "99738      199.0            0.144712   29712.428571 2006-03-17 15:48:33.981303\n",
       "99739      200.0            0.144712   29712.428571 2006-03-17 15:48:48.419129\n",
       "\n",
       "[99740 rows x 4 columns]"
      ]
     },
     "execution_count": 42,
     "metadata": {},
     "output_type": "execute_result"
    }
   ],
   "source": [
    "ret[1]"
   ]
  },
  {
   "cell_type": "code",
   "execution_count": 52,
   "id": "2560e26b",
   "metadata": {},
   "outputs": [],
   "source": [
    "# # tick_df\n",
    "# plt.plot(ret[1].timestamp, ret[1].cum_theta/1000)"
   ]
  },
  {
   "cell_type": "code",
   "execution_count": 55,
   "id": "d3b5af36",
   "metadata": {
    "scrolled": false
   },
   "outputs": [
    {
     "data": {
      "image/png": "[encoded data removed]",
      "text/plain": [
       "<Figure size 1000x1200 with 3 Axes>"
      ]
     },
     "metadata": {},
     "output_type": "display_data"
    },
    {
     "data": {
      "image/png": "[encoded data removed]",
      "text/plain": [
       "<Figure size 1400x1000 with 1 Axes>"
      ]
     },
     "metadata": {},
     "output_type": "display_data"
    },
    {
     "data": {
      "image/png": "[encoded data removed]",
      "text/plain": [
       "<Figure size 640x480 with 1 Axes>"
      ]
     },
     "metadata": {},
     "output_type": "display_data"
    }
   ],
   "source": [
    "analysis_thresholds(ret[0], ret[1])"
   ]
  },
  {
   "cell_type": "code",
   "execution_count": 49,
   "id": "8adf582e",
   "metadata": {},
   "outputs": [
    {
     "data": {
      "text/plain": [
       "[<matplotlib.lines.Line2D at 0x7fbd092125c0>]"
      ]
     },
     "execution_count": 49,
     "metadata": {},
     "output_type": "execute_result"
    },
    {
     "data": {
      "image/png": "[encoded data removed]",
      "text/plain": [
       "<Figure size 640x480 with 1 Axes>"
      ]
     },
     "metadata": {},
     "output_type": "display_data"
    }
   ],
   "source": [
    "plt.plot(ret[1].timestamp, ret[1].expected_imbalance)\n",
    "plt.plot(ret[1].timestamp, ret[1].cum_theta/1000)"
   ]
  },
  {
   "cell_type": "code",
   "execution_count": 51,
   "id": "7b35dc6c",
   "metadata": {},
   "outputs": [],
   "source": [
    "# plt.plot(ret[1].timestamp, np.abs(ret[1].expected_imbalance))\n",
    "# plt.plot(ret[1].timestamp, np.abs(ret[1].cum_theta/1000))"
   ]
  },
  {
   "cell_type": "code",
   "execution_count": 20,
   "id": "80eb111c",
   "metadata": {},
   "outputs": [
    {
     "name": "stdout",
     "output_type": "stream",
     "text": [
      "bars2.ipynb\t    INDICES200601-20081231-N105804263-part001.csv\r\n",
      "bars_fx.ipynb\t    INDICES200601-20081231-N105804263-part001_head.csv\r\n",
      "bars.ipynb\t    information_driven_bars.py\r\n",
      "chap2.ipynb\t    mlfinlab\r\n",
      "compare_bars.ipynb  mlfinlab_bars.ipynb\r\n",
      "FDUA\t\t    README.md\r\n",
      "FinDataChallenge    requirements.txt\r\n",
      "hoge.csv\t    temp.csv\r\n",
      "hogehoge.py\r\n"
     ]
    }
   ],
   "source": [
    "! ls"
   ]
  },
  {
   "cell_type": "code",
   "execution_count": 21,
   "id": "9af5c51f",
   "metadata": {},
   "outputs": [
    {
     "name": "stdout",
     "output_type": "stream",
     "text": [
      "date_time,tick_num,open,high,low,close,volume,cum_buy_volume,cum_ticks,cum_dollar_value\r\n",
      "2006-02-23 15:53:33.486578,69062,14843.97,15849.86,14843.97,15808.78,15701688142327.0,7919485389283.0,69062,2.4382759724375478e+17\r\n"
     ]
    }
   ],
   "source": [
    "! head hoge.csv"
   ]
  },
  {
   "cell_type": "code",
   "execution_count": null,
   "id": "73d4f92a",
   "metadata": {},
   "outputs": [],
   "source": []
  },
  {
   "cell_type": "code",
   "execution_count": 54,
   "id": "1f5940ae",
   "metadata": {},
   "outputs": [],
   "source": [
    "def analysis_thresholds(imb_bars:pd.DataFrame, thresholds_df):\n",
    "    thresholds_df['threshold'] = np.abs(thresholds_df['expected_imbalance']*thresholds_df['exp_num_ticks'])\n",
    "    if 'timestamp' in thresholds_df.columns:\n",
    "        thresholds_df.set_index('timestamp', inplace=True)\n",
    "\n",
    "#     print(thresholds_df)\n",
    "    \n",
    "    thresholds_df_down_sample = thresholds_df.resample(\"5min\").bfill()\n",
    "    \n",
    "    plt.figure(figsize=(10,12))\n",
    "    ax1 = plt.subplot(311)\n",
    "\n",
    "    thresholds_df_down_sample[['cum_theta', 'threshold']].plot(ax=ax1)\n",
    "    plt.axhline(0, c='green')\n",
    "\n",
    "    ax2 = plt.subplot(312)\n",
    "    time_bars['close'].plot(ax=ax2, label='time bar')\n",
    "    time_bars['imb_close'] = np.NaN\n",
    "    \n",
    "    last_time = None\n",
    "    for row in imb_bars[['date_time', 'close']].itertuples():\n",
    "        if last_time is None:\n",
    "            time_bars['imb_close'].loc[time_bars.index<=row.date_time] = row.close\n",
    "        else:\n",
    "            time_bars['imb_close'].loc[(time_bars.index>last_time) & (time_bars.index<=row.date_time)] = row.close\n",
    "        last_time = row.date_time\n",
    "    time_bars['imb_close'].plot(ax=ax2, label='imbalance bar')\n",
    "    plt.legend()\n",
    "\n",
    "    ax3 = plt.subplot(313)\n",
    "    thresholds_df_down_sample[['exp_num_ticks']].plot(ax=ax3)\n",
    "\n",
    "    plt.show()\n",
    "    \n",
    "    imb_bars['log_ret'] = np.log(imb_bars['close']).diff().dropna()\n",
    "    plt.figure(figsize=(14,10))\n",
    "    sns.kdeplot((imb_bars.log_ret - imb_bars.log_ret.mean()) / imb_bars.log_ret.std(), label=\"Imbalance bars\")\n",
    "    sns.kdeplot(np.random.normal(size=len(imb_bars)), label=\"Normal\", color='black', linestyle=\"--\")\n",
    "    plt.show()\n",
    "    \n",
    "    plot_acf(imb_bars['log_ret'].dropna(), lags=10, zero=False)\n",
    "    plt.title('AutoCorrelation')\n",
    "    plt.show()"
   ]
  },
  {
   "cell_type": "code",
   "execution_count": null,
   "id": "679be6ee",
   "metadata": {},
   "outputs": [],
   "source": []
  },
  {
   "cell_type": "code",
   "execution_count": 35,
   "id": "5585c7e3",
   "metadata": {},
   "outputs": [],
   "source": []
  },
  {
   "cell_type": "code",
   "execution_count": null,
   "id": "e0546a41",
   "metadata": {},
   "outputs": [],
   "source": []
  },
  {
   "cell_type": "code",
   "execution_count": 40,
   "id": "840d7943",
   "metadata": {},
   "outputs": [],
   "source": []
  },
  {
   "cell_type": "code",
   "execution_count": null,
   "id": "5565ea05",
   "metadata": {},
   "outputs": [],
   "source": []
  },
  {
   "cell_type": "code",
   "execution_count": null,
   "id": "6b12b716",
   "metadata": {},
   "outputs": [],
   "source": []
  },
  {
   "cell_type": "code",
   "execution_count": null,
   "id": "fa9ef333",
   "metadata": {},
   "outputs": [],
   "source": []
  }
 ],
 "metadata": {
  "kernelspec": {
   "display_name": "Python 3 (ipykernel)",
   "language": "python",
   "name": "python3"
  },
  "language_info": {
   "codemirror_mode": {
    "name": "ipython",
    "version": 3
   },
   "file_extension": ".py",
   "mimetype": "text/x-python",
   "name": "python",
   "nbconvert_exporter": "python",
   "pygments_lexer": "ipython3",
   "version": "3.10.9"
  }
 },
 "nbformat": 4,
 "nbformat_minor": 5
}
