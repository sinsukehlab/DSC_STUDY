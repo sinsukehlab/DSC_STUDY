{
 "cells": [
  {
   "cell_type": "code",
   "execution_count": 1,
   "metadata": {},
   "outputs": [],
   "source": [
    "import pandas as pd\n",
    "import numpy as np\n",
    "import matplotlib.pyplot as plt\n",
    "from information_driven_bars import *\n",
    "from datetime import datetime"
   ]
  },
  {
   "cell_type": "code",
   "execution_count": 3,
   "metadata": {},
   "outputs": [
    {
     "name": "stderr",
     "output_type": "stream",
     "text": [
      "/var/folders/pp/1lf6swc57b51ffkjq285jgl40000gn/T/ipykernel_96306/59550052.py:1: DtypeWarning: Columns (14) have mixed types. Specify dtype option on import or set low_memory=False.\n",
      "  df = pd.read_csv(\"FX_INDEX_1-N107810851-part001.csv\")\n"
     ]
    }
   ],
   "source": [
    "df = pd.read_csv(\"FX_INDEX_1-N107810851-part001.csv\")"
   ]
  },
  {
   "cell_type": "code",
   "execution_count": 4,
   "metadata": {},
   "outputs": [
    {
     "data": {
      "text/plain": [
       "(58004439, 25)"
      ]
     },
     "execution_count": 4,
     "metadata": {},
     "output_type": "execute_result"
    }
   ],
   "source": [
    "df.shape"
   ]
  },
  {
   "cell_type": "code",
   "execution_count": 5,
   "metadata": {},
   "outputs": [
    {
     "data": {
      "text/html": [
       "<div>\n",
       "<style scoped>\n",
       "    .dataframe tbody tr th:only-of-type {\n",
       "        vertical-align: middle;\n",
       "    }\n",
       "\n",
       "    .dataframe tbody tr th {\n",
       "        vertical-align: top;\n",
       "    }\n",
       "\n",
       "    .dataframe thead th {\n",
       "        text-align: right;\n",
       "    }\n",
       "</style>\n",
       "<table border=\"1\" class=\"dataframe\">\n",
       "  <thead>\n",
       "    <tr style=\"text-align: right;\">\n",
       "      <th></th>\n",
       "      <th>#RIC</th>\n",
       "      <th>Date[G]</th>\n",
       "      <th>Time[G]</th>\n",
       "      <th>GMT Offset</th>\n",
       "      <th>Type</th>\n",
       "      <th>Ex/Cntrb.ID</th>\n",
       "      <th>LOC</th>\n",
       "      <th>Price</th>\n",
       "      <th>Volume</th>\n",
       "      <th>Market VWAP</th>\n",
       "      <th>...</th>\n",
       "      <th>New Price</th>\n",
       "      <th>New Vol</th>\n",
       "      <th>Bid Yld</th>\n",
       "      <th>Ask Yld</th>\n",
       "      <th>30 Day ATM IV Call</th>\n",
       "      <th>60 Day ATM IV Call</th>\n",
       "      <th>90 Day ATM IV Call</th>\n",
       "      <th>30 Day ATM IV Put</th>\n",
       "      <th>60 Day ATM IV Put</th>\n",
       "      <th>90 Day ATM IV Put</th>\n",
       "    </tr>\n",
       "  </thead>\n",
       "  <tbody>\n",
       "    <tr>\n",
       "      <th>0</th>\n",
       "      <td>JPY=</td>\n",
       "      <td>01-JAN-2006</td>\n",
       "      <td>17:09:51.571</td>\n",
       "      <td>0</td>\n",
       "      <td>OTC Quote</td>\n",
       "      <td>BMCE PARIS   PAR</td>\n",
       "      <td>NaN</td>\n",
       "      <td>NaN</td>\n",
       "      <td>NaN</td>\n",
       "      <td>NaN</td>\n",
       "      <td>...</td>\n",
       "      <td>NaN</td>\n",
       "      <td>NaN</td>\n",
       "      <td>NaN</td>\n",
       "      <td>NaN</td>\n",
       "      <td>NaN</td>\n",
       "      <td>NaN</td>\n",
       "      <td>NaN</td>\n",
       "      <td>NaN</td>\n",
       "      <td>NaN</td>\n",
       "      <td>NaN</td>\n",
       "    </tr>\n",
       "    <tr>\n",
       "      <th>1</th>\n",
       "      <td>JPY=</td>\n",
       "      <td>01-JAN-2006</td>\n",
       "      <td>18:00:42.974</td>\n",
       "      <td>0</td>\n",
       "      <td>OTC Quote</td>\n",
       "      <td>HSBC         NYC</td>\n",
       "      <td>NaN</td>\n",
       "      <td>NaN</td>\n",
       "      <td>NaN</td>\n",
       "      <td>NaN</td>\n",
       "      <td>...</td>\n",
       "      <td>NaN</td>\n",
       "      <td>NaN</td>\n",
       "      <td>NaN</td>\n",
       "      <td>NaN</td>\n",
       "      <td>NaN</td>\n",
       "      <td>NaN</td>\n",
       "      <td>NaN</td>\n",
       "      <td>NaN</td>\n",
       "      <td>NaN</td>\n",
       "      <td>NaN</td>\n",
       "    </tr>\n",
       "    <tr>\n",
       "      <th>2</th>\n",
       "      <td>JPY=</td>\n",
       "      <td>01-JAN-2006</td>\n",
       "      <td>18:00:53.311</td>\n",
       "      <td>0</td>\n",
       "      <td>OTC Quote</td>\n",
       "      <td>RABOBANK GFM LON</td>\n",
       "      <td>NaN</td>\n",
       "      <td>NaN</td>\n",
       "      <td>NaN</td>\n",
       "      <td>NaN</td>\n",
       "      <td>...</td>\n",
       "      <td>NaN</td>\n",
       "      <td>NaN</td>\n",
       "      <td>NaN</td>\n",
       "      <td>NaN</td>\n",
       "      <td>NaN</td>\n",
       "      <td>NaN</td>\n",
       "      <td>NaN</td>\n",
       "      <td>NaN</td>\n",
       "      <td>NaN</td>\n",
       "      <td>NaN</td>\n",
       "    </tr>\n",
       "    <tr>\n",
       "      <th>3</th>\n",
       "      <td>JPY=</td>\n",
       "      <td>01-JAN-2006</td>\n",
       "      <td>18:03:17.826</td>\n",
       "      <td>0</td>\n",
       "      <td>OTC Quote</td>\n",
       "      <td>LBW          STG</td>\n",
       "      <td>NaN</td>\n",
       "      <td>NaN</td>\n",
       "      <td>NaN</td>\n",
       "      <td>NaN</td>\n",
       "      <td>...</td>\n",
       "      <td>NaN</td>\n",
       "      <td>NaN</td>\n",
       "      <td>NaN</td>\n",
       "      <td>NaN</td>\n",
       "      <td>NaN</td>\n",
       "      <td>NaN</td>\n",
       "      <td>NaN</td>\n",
       "      <td>NaN</td>\n",
       "      <td>NaN</td>\n",
       "      <td>NaN</td>\n",
       "    </tr>\n",
       "    <tr>\n",
       "      <th>4</th>\n",
       "      <td>JPY=</td>\n",
       "      <td>01-JAN-2006</td>\n",
       "      <td>18:05:49.274</td>\n",
       "      <td>0</td>\n",
       "      <td>OTC Quote</td>\n",
       "      <td>GAZPROMBANK  MOW</td>\n",
       "      <td>NaN</td>\n",
       "      <td>NaN</td>\n",
       "      <td>NaN</td>\n",
       "      <td>NaN</td>\n",
       "      <td>...</td>\n",
       "      <td>NaN</td>\n",
       "      <td>NaN</td>\n",
       "      <td>NaN</td>\n",
       "      <td>NaN</td>\n",
       "      <td>NaN</td>\n",
       "      <td>NaN</td>\n",
       "      <td>NaN</td>\n",
       "      <td>NaN</td>\n",
       "      <td>NaN</td>\n",
       "      <td>NaN</td>\n",
       "    </tr>\n",
       "  </tbody>\n",
       "</table>\n",
       "<p>5 rows × 25 columns</p>\n",
       "</div>"
      ],
      "text/plain": [
       "   #RIC      Date[G]       Time[G]  GMT Offset       Type       Ex/Cntrb.ID  \\\n",
       "0  JPY=  01-JAN-2006  17:09:51.571           0  OTC Quote  BMCE PARIS   PAR   \n",
       "1  JPY=  01-JAN-2006  18:00:42.974           0  OTC Quote  HSBC         NYC   \n",
       "2  JPY=  01-JAN-2006  18:00:53.311           0  OTC Quote  RABOBANK GFM LON   \n",
       "3  JPY=  01-JAN-2006  18:03:17.826           0  OTC Quote  LBW          STG   \n",
       "4  JPY=  01-JAN-2006  18:05:49.274           0  OTC Quote  GAZPROMBANK  MOW   \n",
       "\n",
       "   LOC  Price  Volume  Market VWAP  ...  New Price  New Vol  Bid Yld  Ask Yld  \\\n",
       "0  NaN    NaN     NaN          NaN  ...        NaN      NaN      NaN      NaN   \n",
       "1  NaN    NaN     NaN          NaN  ...        NaN      NaN      NaN      NaN   \n",
       "2  NaN    NaN     NaN          NaN  ...        NaN      NaN      NaN      NaN   \n",
       "3  NaN    NaN     NaN          NaN  ...        NaN      NaN      NaN      NaN   \n",
       "4  NaN    NaN     NaN          NaN  ...        NaN      NaN      NaN      NaN   \n",
       "\n",
       "  30 Day ATM IV Call  60 Day ATM IV Call  90 Day ATM IV Call  \\\n",
       "0                NaN                 NaN                 NaN   \n",
       "1                NaN                 NaN                 NaN   \n",
       "2                NaN                 NaN                 NaN   \n",
       "3                NaN                 NaN                 NaN   \n",
       "4                NaN                 NaN                 NaN   \n",
       "\n",
       "   30 Day ATM IV Put  60 Day ATM IV Put  90 Day ATM IV Put  \n",
       "0                NaN                NaN                NaN  \n",
       "1                NaN                NaN                NaN  \n",
       "2                NaN                NaN                NaN  \n",
       "3                NaN                NaN                NaN  \n",
       "4                NaN                NaN                NaN  \n",
       "\n",
       "[5 rows x 25 columns]"
      ]
     },
     "execution_count": 5,
     "metadata": {},
     "output_type": "execute_result"
    }
   ],
   "source": [
    "df.head()"
   ]
  },
  {
   "cell_type": "code",
   "execution_count": 7,
   "metadata": {},
   "outputs": [
    {
     "data": {
      "text/plain": [
       "array(['JPY='], dtype=object)"
      ]
     },
     "execution_count": 7,
     "metadata": {},
     "output_type": "execute_result"
    }
   ],
   "source": [
    "df['#RIC'].unique()"
   ]
  },
  {
   "cell_type": "code",
   "execution_count": 8,
   "metadata": {},
   "outputs": [
    {
     "data": {
      "text/html": [
       "<div>\n",
       "<style scoped>\n",
       "    .dataframe tbody tr th:only-of-type {\n",
       "        vertical-align: middle;\n",
       "    }\n",
       "\n",
       "    .dataframe tbody tr th {\n",
       "        vertical-align: top;\n",
       "    }\n",
       "\n",
       "    .dataframe thead th {\n",
       "        text-align: right;\n",
       "    }\n",
       "</style>\n",
       "<table border=\"1\" class=\"dataframe\">\n",
       "  <thead>\n",
       "    <tr style=\"text-align: right;\">\n",
       "      <th></th>\n",
       "      <th>GMT Offset</th>\n",
       "      <th>LOC</th>\n",
       "      <th>Price</th>\n",
       "      <th>Volume</th>\n",
       "      <th>Market VWAP</th>\n",
       "      <th>Bid Price</th>\n",
       "      <th>Bid Size</th>\n",
       "      <th>Ask Price</th>\n",
       "      <th>Ask Size</th>\n",
       "      <th>New Price</th>\n",
       "      <th>New Vol</th>\n",
       "      <th>Bid Yld</th>\n",
       "      <th>Ask Yld</th>\n",
       "      <th>30 Day ATM IV Call</th>\n",
       "      <th>60 Day ATM IV Call</th>\n",
       "      <th>90 Day ATM IV Call</th>\n",
       "      <th>30 Day ATM IV Put</th>\n",
       "      <th>60 Day ATM IV Put</th>\n",
       "      <th>90 Day ATM IV Put</th>\n",
       "    </tr>\n",
       "  </thead>\n",
       "  <tbody>\n",
       "    <tr>\n",
       "      <th>count</th>\n",
       "      <td>58004439.0</td>\n",
       "      <td>0.0</td>\n",
       "      <td>0.0</td>\n",
       "      <td>0.0</td>\n",
       "      <td>0.0</td>\n",
       "      <td>5.800444e+07</td>\n",
       "      <td>0.0</td>\n",
       "      <td>5.800444e+07</td>\n",
       "      <td>0.0</td>\n",
       "      <td>0.0</td>\n",
       "      <td>0.0</td>\n",
       "      <td>0.0</td>\n",
       "      <td>0.0</td>\n",
       "      <td>0.0</td>\n",
       "      <td>0.0</td>\n",
       "      <td>0.0</td>\n",
       "      <td>0.0</td>\n",
       "      <td>0.0</td>\n",
       "      <td>0.0</td>\n",
       "    </tr>\n",
       "    <tr>\n",
       "      <th>mean</th>\n",
       "      <td>0.0</td>\n",
       "      <td>NaN</td>\n",
       "      <td>NaN</td>\n",
       "      <td>NaN</td>\n",
       "      <td>NaN</td>\n",
       "      <td>1.098184e+02</td>\n",
       "      <td>NaN</td>\n",
       "      <td>1.098514e+02</td>\n",
       "      <td>NaN</td>\n",
       "      <td>NaN</td>\n",
       "      <td>NaN</td>\n",
       "      <td>NaN</td>\n",
       "      <td>NaN</td>\n",
       "      <td>NaN</td>\n",
       "      <td>NaN</td>\n",
       "      <td>NaN</td>\n",
       "      <td>NaN</td>\n",
       "      <td>NaN</td>\n",
       "      <td>NaN</td>\n",
       "    </tr>\n",
       "    <tr>\n",
       "      <th>std</th>\n",
       "      <td>0.0</td>\n",
       "      <td>NaN</td>\n",
       "      <td>NaN</td>\n",
       "      <td>NaN</td>\n",
       "      <td>NaN</td>\n",
       "      <td>9.088806e+00</td>\n",
       "      <td>NaN</td>\n",
       "      <td>9.087257e+00</td>\n",
       "      <td>NaN</td>\n",
       "      <td>NaN</td>\n",
       "      <td>NaN</td>\n",
       "      <td>NaN</td>\n",
       "      <td>NaN</td>\n",
       "      <td>NaN</td>\n",
       "      <td>NaN</td>\n",
       "      <td>NaN</td>\n",
       "      <td>NaN</td>\n",
       "      <td>NaN</td>\n",
       "      <td>NaN</td>\n",
       "    </tr>\n",
       "    <tr>\n",
       "      <th>min</th>\n",
       "      <td>0.0</td>\n",
       "      <td>NaN</td>\n",
       "      <td>NaN</td>\n",
       "      <td>NaN</td>\n",
       "      <td>NaN</td>\n",
       "      <td>8.711000e+01</td>\n",
       "      <td>NaN</td>\n",
       "      <td>8.715000e+01</td>\n",
       "      <td>NaN</td>\n",
       "      <td>NaN</td>\n",
       "      <td>NaN</td>\n",
       "      <td>NaN</td>\n",
       "      <td>NaN</td>\n",
       "      <td>NaN</td>\n",
       "      <td>NaN</td>\n",
       "      <td>NaN</td>\n",
       "      <td>NaN</td>\n",
       "      <td>NaN</td>\n",
       "      <td>NaN</td>\n",
       "    </tr>\n",
       "    <tr>\n",
       "      <th>25%</th>\n",
       "      <td>0.0</td>\n",
       "      <td>NaN</td>\n",
       "      <td>NaN</td>\n",
       "      <td>NaN</td>\n",
       "      <td>NaN</td>\n",
       "      <td>1.032200e+02</td>\n",
       "      <td>NaN</td>\n",
       "      <td>1.032500e+02</td>\n",
       "      <td>NaN</td>\n",
       "      <td>NaN</td>\n",
       "      <td>NaN</td>\n",
       "      <td>NaN</td>\n",
       "      <td>NaN</td>\n",
       "      <td>NaN</td>\n",
       "      <td>NaN</td>\n",
       "      <td>NaN</td>\n",
       "      <td>NaN</td>\n",
       "      <td>NaN</td>\n",
       "      <td>NaN</td>\n",
       "    </tr>\n",
       "    <tr>\n",
       "      <th>50%</th>\n",
       "      <td>0.0</td>\n",
       "      <td>NaN</td>\n",
       "      <td>NaN</td>\n",
       "      <td>NaN</td>\n",
       "      <td>NaN</td>\n",
       "      <td>1.126900e+02</td>\n",
       "      <td>NaN</td>\n",
       "      <td>1.127300e+02</td>\n",
       "      <td>NaN</td>\n",
       "      <td>NaN</td>\n",
       "      <td>NaN</td>\n",
       "      <td>NaN</td>\n",
       "      <td>NaN</td>\n",
       "      <td>NaN</td>\n",
       "      <td>NaN</td>\n",
       "      <td>NaN</td>\n",
       "      <td>NaN</td>\n",
       "      <td>NaN</td>\n",
       "      <td>NaN</td>\n",
       "    </tr>\n",
       "    <tr>\n",
       "      <th>75%</th>\n",
       "      <td>0.0</td>\n",
       "      <td>NaN</td>\n",
       "      <td>NaN</td>\n",
       "      <td>NaN</td>\n",
       "      <td>NaN</td>\n",
       "      <td>1.174000e+02</td>\n",
       "      <td>NaN</td>\n",
       "      <td>1.174300e+02</td>\n",
       "      <td>NaN</td>\n",
       "      <td>NaN</td>\n",
       "      <td>NaN</td>\n",
       "      <td>NaN</td>\n",
       "      <td>NaN</td>\n",
       "      <td>NaN</td>\n",
       "      <td>NaN</td>\n",
       "      <td>NaN</td>\n",
       "      <td>NaN</td>\n",
       "      <td>NaN</td>\n",
       "      <td>NaN</td>\n",
       "    </tr>\n",
       "    <tr>\n",
       "      <th>max</th>\n",
       "      <td>0.0</td>\n",
       "      <td>NaN</td>\n",
       "      <td>NaN</td>\n",
       "      <td>NaN</td>\n",
       "      <td>NaN</td>\n",
       "      <td>1.241600e+02</td>\n",
       "      <td>NaN</td>\n",
       "      <td>1.241900e+02</td>\n",
       "      <td>NaN</td>\n",
       "      <td>NaN</td>\n",
       "      <td>NaN</td>\n",
       "      <td>NaN</td>\n",
       "      <td>NaN</td>\n",
       "      <td>NaN</td>\n",
       "      <td>NaN</td>\n",
       "      <td>NaN</td>\n",
       "      <td>NaN</td>\n",
       "      <td>NaN</td>\n",
       "      <td>NaN</td>\n",
       "    </tr>\n",
       "  </tbody>\n",
       "</table>\n",
       "</div>"
      ],
      "text/plain": [
       "       GMT Offset  LOC  Price  Volume  Market VWAP     Bid Price  Bid Size  \\\n",
       "count  58004439.0  0.0    0.0     0.0          0.0  5.800444e+07       0.0   \n",
       "mean          0.0  NaN    NaN     NaN          NaN  1.098184e+02       NaN   \n",
       "std           0.0  NaN    NaN     NaN          NaN  9.088806e+00       NaN   \n",
       "min           0.0  NaN    NaN     NaN          NaN  8.711000e+01       NaN   \n",
       "25%           0.0  NaN    NaN     NaN          NaN  1.032200e+02       NaN   \n",
       "50%           0.0  NaN    NaN     NaN          NaN  1.126900e+02       NaN   \n",
       "75%           0.0  NaN    NaN     NaN          NaN  1.174000e+02       NaN   \n",
       "max           0.0  NaN    NaN     NaN          NaN  1.241600e+02       NaN   \n",
       "\n",
       "          Ask Price  Ask Size  New Price  New Vol  Bid Yld  Ask Yld  \\\n",
       "count  5.800444e+07       0.0        0.0      0.0      0.0      0.0   \n",
       "mean   1.098514e+02       NaN        NaN      NaN      NaN      NaN   \n",
       "std    9.087257e+00       NaN        NaN      NaN      NaN      NaN   \n",
       "min    8.715000e+01       NaN        NaN      NaN      NaN      NaN   \n",
       "25%    1.032500e+02       NaN        NaN      NaN      NaN      NaN   \n",
       "50%    1.127300e+02       NaN        NaN      NaN      NaN      NaN   \n",
       "75%    1.174300e+02       NaN        NaN      NaN      NaN      NaN   \n",
       "max    1.241900e+02       NaN        NaN      NaN      NaN      NaN   \n",
       "\n",
       "       30 Day ATM IV Call  60 Day ATM IV Call  90 Day ATM IV Call  \\\n",
       "count                 0.0                 0.0                 0.0   \n",
       "mean                  NaN                 NaN                 NaN   \n",
       "std                   NaN                 NaN                 NaN   \n",
       "min                   NaN                 NaN                 NaN   \n",
       "25%                   NaN                 NaN                 NaN   \n",
       "50%                   NaN                 NaN                 NaN   \n",
       "75%                   NaN                 NaN                 NaN   \n",
       "max                   NaN                 NaN                 NaN   \n",
       "\n",
       "       30 Day ATM IV Put  60 Day ATM IV Put  90 Day ATM IV Put  \n",
       "count                0.0                0.0                0.0  \n",
       "mean                 NaN                NaN                NaN  \n",
       "std                  NaN                NaN                NaN  \n",
       "min                  NaN                NaN                NaN  \n",
       "25%                  NaN                NaN                NaN  \n",
       "50%                  NaN                NaN                NaN  \n",
       "75%                  NaN                NaN                NaN  \n",
       "max                  NaN                NaN                NaN  "
      ]
     },
     "execution_count": 8,
     "metadata": {},
     "output_type": "execute_result"
    }
   ],
   "source": [
    "df.describe()"
   ]
  },
  {
   "cell_type": "code",
   "execution_count": 11,
   "metadata": {},
   "outputs": [],
   "source": [
    "df['Price'] = (df['Bid Price'] + df['Ask Price'])/2"
   ]
  },
  {
   "cell_type": "code",
   "execution_count": 9,
   "metadata": {},
   "outputs": [],
   "source": [
    "df['date'] = df['Date[G]'].astype(str) + \"T\" + df['Time[G]'].astype(str)"
   ]
  },
  {
   "cell_type": "code",
   "execution_count": 12,
   "metadata": {},
   "outputs": [
    {
     "data": {
      "text/plain": [
       "0    01-JAN-2006T17:09:51.571\n",
       "1    01-JAN-2006T18:00:42.974\n",
       "2    01-JAN-2006T18:00:53.311\n",
       "3    01-JAN-2006T18:03:17.826\n",
       "4    01-JAN-2006T18:05:49.274\n",
       "Name: date, dtype: object"
      ]
     },
     "execution_count": 12,
     "metadata": {},
     "output_type": "execute_result"
    }
   ],
   "source": [
    "df['date'].head()"
   ]
  },
  {
   "cell_type": "code",
   "execution_count": 13,
   "metadata": {},
   "outputs": [],
   "source": [
    "df['date'] = pd.to_datetime(df['date'], format = \"%d-%b-%YT%H:%M:%S.%f\")"
   ]
  },
  {
   "cell_type": "code",
   "execution_count": 16,
   "metadata": {},
   "outputs": [],
   "source": [
    "tick_time, T_list, _ = tick_imbalance_bar(df['Price'][:10000], 100, 100)"
   ]
  },
  {
   "cell_type": "code",
   "execution_count": 17,
   "metadata": {},
   "outputs": [
    {
     "data": {
      "text/plain": [
       "[100]"
      ]
     },
     "execution_count": 17,
     "metadata": {},
     "output_type": "execute_result"
    }
   ],
   "source": [
    "tick_time"
   ]
  },
  {
   "cell_type": "code",
   "execution_count": null,
   "metadata": {},
   "outputs": [],
   "source": []
  },
  {
   "cell_type": "code",
   "execution_count": 17,
   "metadata": {},
   "outputs": [],
   "source": [
    "def tick_bar(price, n_tick):\n",
    "    len_price=len(price)\n",
    "    n_bars = int(np.floor(len_price / n_tick))\n",
    "    ret = []\n",
    "    for i in range(n_bars):\n",
    "        start = i*n_tick; end = (i+1)*n_tick -1\n",
    "        ret.append(price[end] - price[start])\n",
    "    return ret"
   ]
  },
  {
   "cell_type": "code",
   "execution_count": 24,
   "metadata": {},
   "outputs": [],
   "source": [
    "ret_tick = tick_bar(df1['Price'].to_numpy(), 1000)"
   ]
  },
  {
   "cell_type": "code",
   "execution_count": 25,
   "metadata": {},
   "outputs": [
    {
     "data": {
      "text/plain": [
       "(array([1.0000e+00, 0.0000e+00, 0.0000e+00, 0.0000e+00, 0.0000e+00,\n",
       "        0.0000e+00, 1.0000e+00, 1.0000e+00, 0.0000e+00, 0.0000e+00,\n",
       "        0.0000e+00, 0.0000e+00, 0.0000e+00, 0.0000e+00, 0.0000e+00,\n",
       "        0.0000e+00, 0.0000e+00, 0.0000e+00, 0.0000e+00, 0.0000e+00,\n",
       "        0.0000e+00, 1.0000e+00, 0.0000e+00, 1.0000e+00, 0.0000e+00,\n",
       "        0.0000e+00, 2.0000e+00, 3.0000e+00, 2.0000e+00, 1.0000e+00,\n",
       "        0.0000e+00, 2.0000e+00, 0.0000e+00, 0.0000e+00, 2.0000e+00,\n",
       "        6.0000e+00, 9.0000e+00, 9.0000e+00, 1.0000e+01, 1.3000e+01,\n",
       "        1.1000e+01, 1.2000e+01, 2.0000e+01, 2.7000e+01, 4.0000e+01,\n",
       "        5.2000e+01, 6.9000e+01, 8.9000e+01, 1.3900e+02, 2.2900e+02,\n",
       "        3.1300e+02, 5.7900e+02, 8.5800e+02, 1.6040e+03, 3.1310e+03,\n",
       "        4.3780e+03, 7.6200e+03, 1.0349e+04, 8.7770e+03, 8.0610e+03,\n",
       "        4.9570e+03, 2.5390e+03, 1.7620e+03, 9.3800e+02, 4.5300e+02,\n",
       "        3.2900e+02, 1.7600e+02, 1.1100e+02, 8.0000e+01, 5.4000e+01,\n",
       "        3.9000e+01, 3.7000e+01, 1.9000e+01, 2.3000e+01, 1.2000e+01,\n",
       "        9.0000e+00, 9.0000e+00, 6.0000e+00, 5.0000e+00, 6.0000e+00,\n",
       "        5.0000e+00, 5.0000e+00, 1.0000e+00, 0.0000e+00, 2.0000e+00,\n",
       "        1.0000e+00, 0.0000e+00, 0.0000e+00, 0.0000e+00, 0.0000e+00,\n",
       "        1.0000e+00, 0.0000e+00, 0.0000e+00, 1.0000e+00, 0.0000e+00,\n",
       "        1.0000e+00, 0.0000e+00, 0.0000e+00, 0.0000e+00, 1.0000e+00]),\n",
       " array([-1.9300e+00, -1.8967e+00, -1.8634e+00, -1.8301e+00, -1.7968e+00,\n",
       "        -1.7635e+00, -1.7302e+00, -1.6969e+00, -1.6636e+00, -1.6303e+00,\n",
       "        -1.5970e+00, -1.5637e+00, -1.5304e+00, -1.4971e+00, -1.4638e+00,\n",
       "        -1.4305e+00, -1.3972e+00, -1.3639e+00, -1.3306e+00, -1.2973e+00,\n",
       "        -1.2640e+00, -1.2307e+00, -1.1974e+00, -1.1641e+00, -1.1308e+00,\n",
       "        -1.0975e+00, -1.0642e+00, -1.0309e+00, -9.9760e-01, -9.6430e-01,\n",
       "        -9.3100e-01, -8.9770e-01, -8.6440e-01, -8.3110e-01, -7.9780e-01,\n",
       "        -7.6450e-01, -7.3120e-01, -6.9790e-01, -6.6460e-01, -6.3130e-01,\n",
       "        -5.9800e-01, -5.6470e-01, -5.3140e-01, -4.9810e-01, -4.6480e-01,\n",
       "        -4.3150e-01, -3.9820e-01, -3.6490e-01, -3.3160e-01, -2.9830e-01,\n",
       "        -2.6500e-01, -2.3170e-01, -1.9840e-01, -1.6510e-01, -1.3180e-01,\n",
       "        -9.8500e-02, -6.5200e-02, -3.1900e-02,  1.4000e-03,  3.4700e-02,\n",
       "         6.8000e-02,  1.0130e-01,  1.3460e-01,  1.6790e-01,  2.0120e-01,\n",
       "         2.3450e-01,  2.6780e-01,  3.0110e-01,  3.3440e-01,  3.6770e-01,\n",
       "         4.0100e-01,  4.3430e-01,  4.6760e-01,  5.0090e-01,  5.3420e-01,\n",
       "         5.6750e-01,  6.0080e-01,  6.3410e-01,  6.6740e-01,  7.0070e-01,\n",
       "         7.3400e-01,  7.6730e-01,  8.0060e-01,  8.3390e-01,  8.6720e-01,\n",
       "         9.0050e-01,  9.3380e-01,  9.6710e-01,  1.0004e+00,  1.0337e+00,\n",
       "         1.0670e+00,  1.1003e+00,  1.1336e+00,  1.1669e+00,  1.2002e+00,\n",
       "         1.2335e+00,  1.2668e+00,  1.3001e+00,  1.3334e+00,  1.3667e+00,\n",
       "         1.4000e+00]),\n",
       " <BarContainer object of 100 artists>)"
      ]
     },
     "execution_count": 25,
     "metadata": {},
     "output_type": "execute_result"
    },
    {
     "data": {
      "image/png": "[encoded data removed]",
      "text/plain": [
       "<Figure size 640x480 with 1 Axes>"
      ]
     },
     "metadata": {},
     "output_type": "display_data"
    }
   ],
   "source": [
    "plt.hist(ret_tick, bins=100)"
   ]
  },
  {
   "cell_type": "code",
   "execution_count": 14,
   "metadata": {},
   "outputs": [],
   "source": [
    "def volume_bar(price, volume, volume_th):\n",
    "    len_price=len(price)\n",
    "    ret = []; cum_vol = 0\n",
    "    count = 0\n",
    "    for i in range(len_price):\n",
    "        if cum_vol == 0:\n",
    "            start_price = price[i]\n",
    "        cum_vol += volume[i]\n",
    "        if cum_vol > volume_th:\n",
    "            count += 1\n",
    "            close_price = price[i]\n",
    "            ret.append(close_price - start_price)\n",
    "            cum_vol = 0\n",
    "    print(count/len(price))\n",
    "    return ret"
   ]
  },
  {
   "cell_type": "code",
   "execution_count": 15,
   "metadata": {},
   "outputs": [],
   "source": [
    "df1 = df"
   ]
  },
  {
   "cell_type": "code",
   "execution_count": 16,
   "metadata": {},
   "outputs": [
    {
     "name": "stdout",
     "output_type": "stream",
     "text": [
      "0.0\n"
     ]
    }
   ],
   "source": [
    "ret_vol = volume_bar(df1['Price'].to_numpy(), df1['Volume'].to_numpy(), 10**11)"
   ]
  },
  {
   "cell_type": "code",
   "execution_count": 45,
   "metadata": {},
   "outputs": [
    {
     "data": {
      "text/plain": [
       "count    4.288164e+07\n",
       "mean     5.002666e+03\n",
       "std      5.386896e+03\n",
       "min      6.199300e+01\n",
       "25%      1.500029e+03\n",
       "50%      3.196610e+03\n",
       "75%      5.268530e+03\n",
       "max      3.195841e+04\n",
       "Name: Price, dtype: float64"
      ]
     },
     "execution_count": 45,
     "metadata": {},
     "output_type": "execute_result"
    }
   ],
   "source": [
    "df1['Price'].describe()"
   ]
  },
  {
   "cell_type": "code",
   "execution_count": 33,
   "metadata": {},
   "outputs": [
    {
     "data": {
      "text/plain": [
       "[<matplotlib.lines.Line2D at 0x31019c890>]"
      ]
     },
     "execution_count": 33,
     "metadata": {},
     "output_type": "execute_result"
    },
    {
     "data": {
      "image/png": "[encoded data removed]",
      "text/plain": [
       "<Figure size 640x480 with 1 Axes>"
      ]
     },
     "metadata": {},
     "output_type": "display_data"
    }
   ],
   "source": [
    "plt.plot(df1['date'], df1[\"Price\"])"
   ]
  },
  {
   "cell_type": "code",
   "execution_count": 34,
   "metadata": {},
   "outputs": [
    {
     "data": {
      "text/plain": [
       "[<matplotlib.lines.Line2D at 0x2e3f3dc90>]"
      ]
     },
     "execution_count": 34,
     "metadata": {},
     "output_type": "execute_result"
    },
    {
     "data": {
      "image/png": "[encoded data removed]",
      "text/plain": [
       "<Figure size 640x480 with 1 Axes>"
      ]
     },
     "metadata": {},
     "output_type": "display_data"
    }
   ],
   "source": [
    "plt.plot(df1['date'], df1[\"Price\"].diff())"
   ]
  },
  {
   "cell_type": "code",
   "execution_count": 54,
   "metadata": {},
   "outputs": [
    {
     "data": {
      "text/plain": [
       "29394.90068493151"
      ]
     },
     "execution_count": 54,
     "metadata": {},
     "output_type": "execute_result"
    }
   ],
   "source": [
    "len(df)/(365*4)"
   ]
  },
  {
   "cell_type": "code",
   "execution_count": 60,
   "metadata": {},
   "outputs": [
    {
     "data": {
      "text/plain": [
       "[<matplotlib.lines.Line2D at 0x33bcecc50>]"
      ]
     },
     "execution_count": 60,
     "metadata": {},
     "output_type": "execute_result"
    },
    {
     "data": {
      "image/png": "[encoded data removed]",
      "text/plain": [
       "<Figure size 640x480 with 1 Axes>"
      ]
     },
     "metadata": {},
     "output_type": "display_data"
    }
   ],
   "source": [
    "plt.plot(df1['date'], df1[\"Volume\"])"
   ]
  },
  {
   "cell_type": "code",
   "execution_count": 59,
   "metadata": {},
   "outputs": [
    {
     "data": {
      "text/plain": [
       "[<matplotlib.lines.Line2D at 0x11e476550>]"
      ]
     },
     "execution_count": 59,
     "metadata": {},
     "output_type": "execute_result"
    },
    {
     "data": {
      "image/png": "[encoded data removed]",
      "text/plain": [
       "<Figure size 640x480 with 1 Axes>"
      ]
     },
     "metadata": {},
     "output_type": "display_data"
    }
   ],
   "source": [
    "plt.plot(df1[\"Price\"].diff())"
   ]
  },
  {
   "cell_type": "code",
   "execution_count": 65,
   "metadata": {},
   "outputs": [
    {
     "data": {
      "text/html": [
       "<div>\n",
       "<style scoped>\n",
       "    .dataframe tbody tr th:only-of-type {\n",
       "        vertical-align: middle;\n",
       "    }\n",
       "\n",
       "    .dataframe tbody tr th {\n",
       "        vertical-align: top;\n",
       "    }\n",
       "\n",
       "    .dataframe thead th {\n",
       "        text-align: right;\n",
       "    }\n",
       "</style>\n",
       "<table border=\"1\" class=\"dataframe\">\n",
       "  <thead>\n",
       "    <tr style=\"text-align: right;\">\n",
       "      <th></th>\n",
       "      <th>#RIC</th>\n",
       "      <th>Current RIC</th>\n",
       "      <th>Date[L]</th>\n",
       "      <th>Time[L]</th>\n",
       "      <th>Type</th>\n",
       "      <th>Ex/Cntrb.ID</th>\n",
       "      <th>Price</th>\n",
       "      <th>Volume</th>\n",
       "      <th>Market VWAP</th>\n",
       "      <th>Bid Price</th>\n",
       "      <th>...</th>\n",
       "      <th>New Price</th>\n",
       "      <th>New Vol</th>\n",
       "      <th>Trd/Qte Date</th>\n",
       "      <th>30 Day ATM IV Call</th>\n",
       "      <th>60 Day ATM IV Call</th>\n",
       "      <th>90 Day ATM IV Call</th>\n",
       "      <th>30 Day ATM IV Put</th>\n",
       "      <th>60 Day ATM IV Put</th>\n",
       "      <th>90 Day ATM IV Put</th>\n",
       "      <th>date</th>\n",
       "    </tr>\n",
       "  </thead>\n",
       "  <tbody>\n",
       "    <tr>\n",
       "      <th>975506</th>\n",
       "      <td>.HSI</td>\n",
       "      <td>NaN</td>\n",
       "      <td>22-JAN-2008</td>\n",
       "      <td>16:01:31.243301</td>\n",
       "      <td>Index</td>\n",
       "      <td>NaN</td>\n",
       "      <td>21757.63</td>\n",
       "      <td>5.941490e+09</td>\n",
       "      <td>NaN</td>\n",
       "      <td>NaN</td>\n",
       "      <td>...</td>\n",
       "      <td>NaN</td>\n",
       "      <td>NaN</td>\n",
       "      <td>NaN</td>\n",
       "      <td>NaN</td>\n",
       "      <td>NaN</td>\n",
       "      <td>NaN</td>\n",
       "      <td>NaN</td>\n",
       "      <td>NaN</td>\n",
       "      <td>NaN</td>\n",
       "      <td>2008-01-22 16:01:31.243301</td>\n",
       "    </tr>\n",
       "    <tr>\n",
       "      <th>975507</th>\n",
       "      <td>.HSI</td>\n",
       "      <td>NaN</td>\n",
       "      <td>22-JAN-2008</td>\n",
       "      <td>16:01:31.647572</td>\n",
       "      <td>Index</td>\n",
       "      <td>NaN</td>\n",
       "      <td>21757.63</td>\n",
       "      <td>5.979656e+09</td>\n",
       "      <td>NaN</td>\n",
       "      <td>NaN</td>\n",
       "      <td>...</td>\n",
       "      <td>NaN</td>\n",
       "      <td>NaN</td>\n",
       "      <td>NaN</td>\n",
       "      <td>NaN</td>\n",
       "      <td>NaN</td>\n",
       "      <td>NaN</td>\n",
       "      <td>NaN</td>\n",
       "      <td>NaN</td>\n",
       "      <td>NaN</td>\n",
       "      <td>2008-01-22 16:01:31.647572</td>\n",
       "    </tr>\n",
       "    <tr>\n",
       "      <th>975510</th>\n",
       "      <td>.HSI</td>\n",
       "      <td>NaN</td>\n",
       "      <td>23-JAN-2008</td>\n",
       "      <td>10:00:16.988797</td>\n",
       "      <td>Index</td>\n",
       "      <td>NaN</td>\n",
       "      <td>23359.20</td>\n",
       "      <td>0.000000e+00</td>\n",
       "      <td>NaN</td>\n",
       "      <td>NaN</td>\n",
       "      <td>...</td>\n",
       "      <td>NaN</td>\n",
       "      <td>NaN</td>\n",
       "      <td>NaN</td>\n",
       "      <td>NaN</td>\n",
       "      <td>NaN</td>\n",
       "      <td>NaN</td>\n",
       "      <td>NaN</td>\n",
       "      <td>NaN</td>\n",
       "      <td>NaN</td>\n",
       "      <td>2008-01-23 10:00:16.988797</td>\n",
       "    </tr>\n",
       "    <tr>\n",
       "      <th>975511</th>\n",
       "      <td>.HSI</td>\n",
       "      <td>NaN</td>\n",
       "      <td>23-JAN-2008</td>\n",
       "      <td>10:00:17.103048</td>\n",
       "      <td>Index</td>\n",
       "      <td>NaN</td>\n",
       "      <td>23359.20</td>\n",
       "      <td>2.060479e+08</td>\n",
       "      <td>NaN</td>\n",
       "      <td>NaN</td>\n",
       "      <td>...</td>\n",
       "      <td>NaN</td>\n",
       "      <td>NaN</td>\n",
       "      <td>NaN</td>\n",
       "      <td>NaN</td>\n",
       "      <td>NaN</td>\n",
       "      <td>NaN</td>\n",
       "      <td>NaN</td>\n",
       "      <td>NaN</td>\n",
       "      <td>NaN</td>\n",
       "      <td>2008-01-23 10:00:17.103048</td>\n",
       "    </tr>\n",
       "    <tr>\n",
       "      <th>975512</th>\n",
       "      <td>.HSI</td>\n",
       "      <td>NaN</td>\n",
       "      <td>23-JAN-2008</td>\n",
       "      <td>10:00:31.518414</td>\n",
       "      <td>Index</td>\n",
       "      <td>NaN</td>\n",
       "      <td>23337.45</td>\n",
       "      <td>2.060479e+08</td>\n",
       "      <td>NaN</td>\n",
       "      <td>NaN</td>\n",
       "      <td>...</td>\n",
       "      <td>NaN</td>\n",
       "      <td>NaN</td>\n",
       "      <td>NaN</td>\n",
       "      <td>NaN</td>\n",
       "      <td>NaN</td>\n",
       "      <td>NaN</td>\n",
       "      <td>NaN</td>\n",
       "      <td>NaN</td>\n",
       "      <td>NaN</td>\n",
       "      <td>2008-01-23 10:00:31.518414</td>\n",
       "    </tr>\n",
       "    <tr>\n",
       "      <th>975513</th>\n",
       "      <td>.HSI</td>\n",
       "      <td>NaN</td>\n",
       "      <td>23-JAN-2008</td>\n",
       "      <td>10:00:31.678560</td>\n",
       "      <td>Index</td>\n",
       "      <td>NaN</td>\n",
       "      <td>23337.45</td>\n",
       "      <td>2.299089e+08</td>\n",
       "      <td>NaN</td>\n",
       "      <td>NaN</td>\n",
       "      <td>...</td>\n",
       "      <td>NaN</td>\n",
       "      <td>NaN</td>\n",
       "      <td>NaN</td>\n",
       "      <td>NaN</td>\n",
       "      <td>NaN</td>\n",
       "      <td>NaN</td>\n",
       "      <td>NaN</td>\n",
       "      <td>NaN</td>\n",
       "      <td>NaN</td>\n",
       "      <td>2008-01-23 10:00:31.678560</td>\n",
       "    </tr>\n",
       "    <tr>\n",
       "      <th>975514</th>\n",
       "      <td>.HSI</td>\n",
       "      <td>NaN</td>\n",
       "      <td>23-JAN-2008</td>\n",
       "      <td>10:00:46.283094</td>\n",
       "      <td>Index</td>\n",
       "      <td>NaN</td>\n",
       "      <td>23366.21</td>\n",
       "      <td>2.299089e+08</td>\n",
       "      <td>NaN</td>\n",
       "      <td>NaN</td>\n",
       "      <td>...</td>\n",
       "      <td>NaN</td>\n",
       "      <td>NaN</td>\n",
       "      <td>NaN</td>\n",
       "      <td>NaN</td>\n",
       "      <td>NaN</td>\n",
       "      <td>NaN</td>\n",
       "      <td>NaN</td>\n",
       "      <td>NaN</td>\n",
       "      <td>NaN</td>\n",
       "      <td>2008-01-23 10:00:46.283094</td>\n",
       "    </tr>\n",
       "    <tr>\n",
       "      <th>975515</th>\n",
       "      <td>.HSI</td>\n",
       "      <td>NaN</td>\n",
       "      <td>23-JAN-2008</td>\n",
       "      <td>10:00:46.437381</td>\n",
       "      <td>Index</td>\n",
       "      <td>NaN</td>\n",
       "      <td>23366.21</td>\n",
       "      <td>2.452883e+08</td>\n",
       "      <td>NaN</td>\n",
       "      <td>NaN</td>\n",
       "      <td>...</td>\n",
       "      <td>NaN</td>\n",
       "      <td>NaN</td>\n",
       "      <td>NaN</td>\n",
       "      <td>NaN</td>\n",
       "      <td>NaN</td>\n",
       "      <td>NaN</td>\n",
       "      <td>NaN</td>\n",
       "      <td>NaN</td>\n",
       "      <td>NaN</td>\n",
       "      <td>2008-01-23 10:00:46.437381</td>\n",
       "    </tr>\n",
       "  </tbody>\n",
       "</table>\n",
       "<p>8 rows × 25 columns</p>\n",
       "</div>"
      ],
      "text/plain": [
       "        #RIC  Current RIC      Date[L]          Time[L]   Type  Ex/Cntrb.ID  \\\n",
       "975506  .HSI          NaN  22-JAN-2008  16:01:31.243301  Index          NaN   \n",
       "975507  .HSI          NaN  22-JAN-2008  16:01:31.647572  Index          NaN   \n",
       "975510  .HSI          NaN  23-JAN-2008  10:00:16.988797  Index          NaN   \n",
       "975511  .HSI          NaN  23-JAN-2008  10:00:17.103048  Index          NaN   \n",
       "975512  .HSI          NaN  23-JAN-2008  10:00:31.518414  Index          NaN   \n",
       "975513  .HSI          NaN  23-JAN-2008  10:00:31.678560  Index          NaN   \n",
       "975514  .HSI          NaN  23-JAN-2008  10:00:46.283094  Index          NaN   \n",
       "975515  .HSI          NaN  23-JAN-2008  10:00:46.437381  Index          NaN   \n",
       "\n",
       "           Price        Volume  Market VWAP  Bid Price  ...  New Price  \\\n",
       "975506  21757.63  5.941490e+09          NaN        NaN  ...        NaN   \n",
       "975507  21757.63  5.979656e+09          NaN        NaN  ...        NaN   \n",
       "975510  23359.20  0.000000e+00          NaN        NaN  ...        NaN   \n",
       "975511  23359.20  2.060479e+08          NaN        NaN  ...        NaN   \n",
       "975512  23337.45  2.060479e+08          NaN        NaN  ...        NaN   \n",
       "975513  23337.45  2.299089e+08          NaN        NaN  ...        NaN   \n",
       "975514  23366.21  2.299089e+08          NaN        NaN  ...        NaN   \n",
       "975515  23366.21  2.452883e+08          NaN        NaN  ...        NaN   \n",
       "\n",
       "        New Vol  Trd/Qte Date 30 Day ATM IV Call  60 Day ATM IV Call  \\\n",
       "975506      NaN           NaN                NaN                 NaN   \n",
       "975507      NaN           NaN                NaN                 NaN   \n",
       "975510      NaN           NaN                NaN                 NaN   \n",
       "975511      NaN           NaN                NaN                 NaN   \n",
       "975512      NaN           NaN                NaN                 NaN   \n",
       "975513      NaN           NaN                NaN                 NaN   \n",
       "975514      NaN           NaN                NaN                 NaN   \n",
       "975515      NaN           NaN                NaN                 NaN   \n",
       "\n",
       "        90 Day ATM IV Call  30 Day ATM IV Put  60 Day ATM IV Put  \\\n",
       "975506                 NaN                NaN                NaN   \n",
       "975507                 NaN                NaN                NaN   \n",
       "975510                 NaN                NaN                NaN   \n",
       "975511                 NaN                NaN                NaN   \n",
       "975512                 NaN                NaN                NaN   \n",
       "975513                 NaN                NaN                NaN   \n",
       "975514                 NaN                NaN                NaN   \n",
       "975515                 NaN                NaN                NaN   \n",
       "\n",
       "        90 Day ATM IV Put                       date  \n",
       "975506                NaN 2008-01-22 16:01:31.243301  \n",
       "975507                NaN 2008-01-22 16:01:31.647572  \n",
       "975510                NaN 2008-01-23 10:00:16.988797  \n",
       "975511                NaN 2008-01-23 10:00:17.103048  \n",
       "975512                NaN 2008-01-23 10:00:31.518414  \n",
       "975513                NaN 2008-01-23 10:00:31.678560  \n",
       "975514                NaN 2008-01-23 10:00:46.283094  \n",
       "975515                NaN 2008-01-23 10:00:46.437381  \n",
       "\n",
       "[8 rows x 25 columns]"
      ]
     },
     "execution_count": 65,
     "metadata": {},
     "output_type": "execute_result"
    }
   ],
   "source": [
    "df1.loc[975505:975515]"
   ]
  },
  {
   "cell_type": "code",
   "execution_count": 20,
   "metadata": {},
   "outputs": [
    {
     "data": {
      "text/html": [
       "<div>\n",
       "<style scoped>\n",
       "    .dataframe tbody tr th:only-of-type {\n",
       "        vertical-align: middle;\n",
       "    }\n",
       "\n",
       "    .dataframe tbody tr th {\n",
       "        vertical-align: top;\n",
       "    }\n",
       "\n",
       "    .dataframe thead th {\n",
       "        text-align: right;\n",
       "    }\n",
       "</style>\n",
       "<table border=\"1\" class=\"dataframe\">\n",
       "  <thead>\n",
       "    <tr style=\"text-align: right;\">\n",
       "      <th></th>\n",
       "      <th>#RIC</th>\n",
       "      <th>Date[G]</th>\n",
       "      <th>Time[G]</th>\n",
       "      <th>GMT Offset</th>\n",
       "      <th>Type</th>\n",
       "      <th>Ex/Cntrb.ID</th>\n",
       "      <th>LOC</th>\n",
       "      <th>Price</th>\n",
       "      <th>Volume</th>\n",
       "      <th>Market VWAP</th>\n",
       "      <th>...</th>\n",
       "      <th>New Vol</th>\n",
       "      <th>Bid Yld</th>\n",
       "      <th>Ask Yld</th>\n",
       "      <th>30 Day ATM IV Call</th>\n",
       "      <th>60 Day ATM IV Call</th>\n",
       "      <th>90 Day ATM IV Call</th>\n",
       "      <th>30 Day ATM IV Put</th>\n",
       "      <th>60 Day ATM IV Put</th>\n",
       "      <th>90 Day ATM IV Put</th>\n",
       "      <th>date</th>\n",
       "    </tr>\n",
       "    <tr>\n",
       "      <th>date</th>\n",
       "      <th></th>\n",
       "      <th></th>\n",
       "      <th></th>\n",
       "      <th></th>\n",
       "      <th></th>\n",
       "      <th></th>\n",
       "      <th></th>\n",
       "      <th></th>\n",
       "      <th></th>\n",
       "      <th></th>\n",
       "      <th></th>\n",
       "      <th></th>\n",
       "      <th></th>\n",
       "      <th></th>\n",
       "      <th></th>\n",
       "      <th></th>\n",
       "      <th></th>\n",
       "      <th></th>\n",
       "      <th></th>\n",
       "      <th></th>\n",
       "      <th></th>\n",
       "    </tr>\n",
       "  </thead>\n",
       "  <tbody>\n",
       "    <tr>\n",
       "      <th>2006-01-01 17:09:51.571</th>\n",
       "      <td>JPY=</td>\n",
       "      <td>01-JAN-2006</td>\n",
       "      <td>17:09:51.571</td>\n",
       "      <td>0</td>\n",
       "      <td>OTC Quote</td>\n",
       "      <td>BMCE PARIS   PAR</td>\n",
       "      <td>NaN</td>\n",
       "      <td>117.695</td>\n",
       "      <td>NaN</td>\n",
       "      <td>NaN</td>\n",
       "      <td>...</td>\n",
       "      <td>NaN</td>\n",
       "      <td>NaN</td>\n",
       "      <td>NaN</td>\n",
       "      <td>NaN</td>\n",
       "      <td>NaN</td>\n",
       "      <td>NaN</td>\n",
       "      <td>NaN</td>\n",
       "      <td>NaN</td>\n",
       "      <td>NaN</td>\n",
       "      <td>2006-01-01 17:09:51.571</td>\n",
       "    </tr>\n",
       "    <tr>\n",
       "      <th>2006-01-01 18:00:42.974</th>\n",
       "      <td>JPY=</td>\n",
       "      <td>01-JAN-2006</td>\n",
       "      <td>18:00:42.974</td>\n",
       "      <td>0</td>\n",
       "      <td>OTC Quote</td>\n",
       "      <td>HSBC         NYC</td>\n",
       "      <td>NaN</td>\n",
       "      <td>117.835</td>\n",
       "      <td>NaN</td>\n",
       "      <td>NaN</td>\n",
       "      <td>...</td>\n",
       "      <td>NaN</td>\n",
       "      <td>NaN</td>\n",
       "      <td>NaN</td>\n",
       "      <td>NaN</td>\n",
       "      <td>NaN</td>\n",
       "      <td>NaN</td>\n",
       "      <td>NaN</td>\n",
       "      <td>NaN</td>\n",
       "      <td>NaN</td>\n",
       "      <td>2006-01-01 18:00:42.974</td>\n",
       "    </tr>\n",
       "    <tr>\n",
       "      <th>2006-01-01 18:00:53.311</th>\n",
       "      <td>JPY=</td>\n",
       "      <td>01-JAN-2006</td>\n",
       "      <td>18:00:53.311</td>\n",
       "      <td>0</td>\n",
       "      <td>OTC Quote</td>\n",
       "      <td>RABOBANK GFM LON</td>\n",
       "      <td>NaN</td>\n",
       "      <td>117.845</td>\n",
       "      <td>NaN</td>\n",
       "      <td>NaN</td>\n",
       "      <td>...</td>\n",
       "      <td>NaN</td>\n",
       "      <td>NaN</td>\n",
       "      <td>NaN</td>\n",
       "      <td>NaN</td>\n",
       "      <td>NaN</td>\n",
       "      <td>NaN</td>\n",
       "      <td>NaN</td>\n",
       "      <td>NaN</td>\n",
       "      <td>NaN</td>\n",
       "      <td>2006-01-01 18:00:53.311</td>\n",
       "    </tr>\n",
       "    <tr>\n",
       "      <th>2006-01-01 18:03:17.826</th>\n",
       "      <td>JPY=</td>\n",
       "      <td>01-JAN-2006</td>\n",
       "      <td>18:03:17.826</td>\n",
       "      <td>0</td>\n",
       "      <td>OTC Quote</td>\n",
       "      <td>LBW          STG</td>\n",
       "      <td>NaN</td>\n",
       "      <td>117.830</td>\n",
       "      <td>NaN</td>\n",
       "      <td>NaN</td>\n",
       "      <td>...</td>\n",
       "      <td>NaN</td>\n",
       "      <td>NaN</td>\n",
       "      <td>NaN</td>\n",
       "      <td>NaN</td>\n",
       "      <td>NaN</td>\n",
       "      <td>NaN</td>\n",
       "      <td>NaN</td>\n",
       "      <td>NaN</td>\n",
       "      <td>NaN</td>\n",
       "      <td>2006-01-01 18:03:17.826</td>\n",
       "    </tr>\n",
       "    <tr>\n",
       "      <th>2006-01-01 18:05:49.274</th>\n",
       "      <td>JPY=</td>\n",
       "      <td>01-JAN-2006</td>\n",
       "      <td>18:05:49.274</td>\n",
       "      <td>0</td>\n",
       "      <td>OTC Quote</td>\n",
       "      <td>GAZPROMBANK  MOW</td>\n",
       "      <td>NaN</td>\n",
       "      <td>117.830</td>\n",
       "      <td>NaN</td>\n",
       "      <td>NaN</td>\n",
       "      <td>...</td>\n",
       "      <td>NaN</td>\n",
       "      <td>NaN</td>\n",
       "      <td>NaN</td>\n",
       "      <td>NaN</td>\n",
       "      <td>NaN</td>\n",
       "      <td>NaN</td>\n",
       "      <td>NaN</td>\n",
       "      <td>NaN</td>\n",
       "      <td>NaN</td>\n",
       "      <td>2006-01-01 18:05:49.274</td>\n",
       "    </tr>\n",
       "  </tbody>\n",
       "</table>\n",
       "<p>5 rows × 26 columns</p>\n",
       "</div>"
      ],
      "text/plain": [
       "                         #RIC      Date[G]       Time[G]  GMT Offset  \\\n",
       "date                                                                   \n",
       "2006-01-01 17:09:51.571  JPY=  01-JAN-2006  17:09:51.571           0   \n",
       "2006-01-01 18:00:42.974  JPY=  01-JAN-2006  18:00:42.974           0   \n",
       "2006-01-01 18:00:53.311  JPY=  01-JAN-2006  18:00:53.311           0   \n",
       "2006-01-01 18:03:17.826  JPY=  01-JAN-2006  18:03:17.826           0   \n",
       "2006-01-01 18:05:49.274  JPY=  01-JAN-2006  18:05:49.274           0   \n",
       "\n",
       "                              Type       Ex/Cntrb.ID  LOC    Price  Volume  \\\n",
       "date                                                                         \n",
       "2006-01-01 17:09:51.571  OTC Quote  BMCE PARIS   PAR  NaN  117.695     NaN   \n",
       "2006-01-01 18:00:42.974  OTC Quote  HSBC         NYC  NaN  117.835     NaN   \n",
       "2006-01-01 18:00:53.311  OTC Quote  RABOBANK GFM LON  NaN  117.845     NaN   \n",
       "2006-01-01 18:03:17.826  OTC Quote  LBW          STG  NaN  117.830     NaN   \n",
       "2006-01-01 18:05:49.274  OTC Quote  GAZPROMBANK  MOW  NaN  117.830     NaN   \n",
       "\n",
       "                         Market VWAP  ...  New Vol  Bid Yld  Ask Yld  \\\n",
       "date                                  ...                              \n",
       "2006-01-01 17:09:51.571          NaN  ...      NaN      NaN      NaN   \n",
       "2006-01-01 18:00:42.974          NaN  ...      NaN      NaN      NaN   \n",
       "2006-01-01 18:00:53.311          NaN  ...      NaN      NaN      NaN   \n",
       "2006-01-01 18:03:17.826          NaN  ...      NaN      NaN      NaN   \n",
       "2006-01-01 18:05:49.274          NaN  ...      NaN      NaN      NaN   \n",
       "\n",
       "                         30 Day ATM IV Call 60 Day ATM IV Call  \\\n",
       "date                                                             \n",
       "2006-01-01 17:09:51.571                 NaN                NaN   \n",
       "2006-01-01 18:00:42.974                 NaN                NaN   \n",
       "2006-01-01 18:00:53.311                 NaN                NaN   \n",
       "2006-01-01 18:03:17.826                 NaN                NaN   \n",
       "2006-01-01 18:05:49.274                 NaN                NaN   \n",
       "\n",
       "                         90 Day ATM IV Call  30 Day ATM IV Put  \\\n",
       "date                                                             \n",
       "2006-01-01 17:09:51.571                 NaN                NaN   \n",
       "2006-01-01 18:00:42.974                 NaN                NaN   \n",
       "2006-01-01 18:00:53.311                 NaN                NaN   \n",
       "2006-01-01 18:03:17.826                 NaN                NaN   \n",
       "2006-01-01 18:05:49.274                 NaN                NaN   \n",
       "\n",
       "                         60 Day ATM IV Put  90 Day ATM IV Put  \\\n",
       "date                                                            \n",
       "2006-01-01 17:09:51.571                NaN                NaN   \n",
       "2006-01-01 18:00:42.974                NaN                NaN   \n",
       "2006-01-01 18:00:53.311                NaN                NaN   \n",
       "2006-01-01 18:03:17.826                NaN                NaN   \n",
       "2006-01-01 18:05:49.274                NaN                NaN   \n",
       "\n",
       "                                           date  \n",
       "date                                             \n",
       "2006-01-01 17:09:51.571 2006-01-01 17:09:51.571  \n",
       "2006-01-01 18:00:42.974 2006-01-01 18:00:42.974  \n",
       "2006-01-01 18:00:53.311 2006-01-01 18:00:53.311  \n",
       "2006-01-01 18:03:17.826 2006-01-01 18:03:17.826  \n",
       "2006-01-01 18:05:49.274 2006-01-01 18:05:49.274  \n",
       "\n",
       "[5 rows x 26 columns]"
      ]
     },
     "execution_count": 20,
     "metadata": {},
     "output_type": "execute_result"
    }
   ],
   "source": [
    "df2 = df1.copy()\n",
    "df2.index = df2['date']\n",
    "df2.head()"
   ]
  },
  {
   "cell_type": "code",
   "execution_count": 39,
   "metadata": {},
   "outputs": [],
   "source": [
    "ohlc = df2['Price'].resample('30Min').ohlc()"
   ]
  },
  {
   "cell_type": "code",
   "execution_count": 40,
   "metadata": {},
   "outputs": [
    {
     "data": {
      "text/html": [
       "<div>\n",
       "<style scoped>\n",
       "    .dataframe tbody tr th:only-of-type {\n",
       "        vertical-align: middle;\n",
       "    }\n",
       "\n",
       "    .dataframe tbody tr th {\n",
       "        vertical-align: top;\n",
       "    }\n",
       "\n",
       "    .dataframe thead th {\n",
       "        text-align: right;\n",
       "    }\n",
       "</style>\n",
       "<table border=\"1\" class=\"dataframe\">\n",
       "  <thead>\n",
       "    <tr style=\"text-align: right;\">\n",
       "      <th></th>\n",
       "      <th>open</th>\n",
       "      <th>high</th>\n",
       "      <th>low</th>\n",
       "      <th>close</th>\n",
       "    </tr>\n",
       "    <tr>\n",
       "      <th>date</th>\n",
       "      <th></th>\n",
       "      <th></th>\n",
       "      <th></th>\n",
       "      <th></th>\n",
       "    </tr>\n",
       "  </thead>\n",
       "  <tbody>\n",
       "    <tr>\n",
       "      <th>2006-01-01 17:00:00</th>\n",
       "      <td>117.695</td>\n",
       "      <td>117.695</td>\n",
       "      <td>117.695</td>\n",
       "      <td>117.695</td>\n",
       "    </tr>\n",
       "    <tr>\n",
       "      <th>2006-01-01 17:30:00</th>\n",
       "      <td>NaN</td>\n",
       "      <td>NaN</td>\n",
       "      <td>NaN</td>\n",
       "      <td>NaN</td>\n",
       "    </tr>\n",
       "    <tr>\n",
       "      <th>2006-01-01 18:00:00</th>\n",
       "      <td>117.835</td>\n",
       "      <td>117.845</td>\n",
       "      <td>117.820</td>\n",
       "      <td>117.830</td>\n",
       "    </tr>\n",
       "    <tr>\n",
       "      <th>2006-01-01 18:30:00</th>\n",
       "      <td>NaN</td>\n",
       "      <td>NaN</td>\n",
       "      <td>NaN</td>\n",
       "      <td>NaN</td>\n",
       "    </tr>\n",
       "    <tr>\n",
       "      <th>2006-01-01 19:00:00</th>\n",
       "      <td>117.825</td>\n",
       "      <td>117.875</td>\n",
       "      <td>117.825</td>\n",
       "      <td>117.870</td>\n",
       "    </tr>\n",
       "  </tbody>\n",
       "</table>\n",
       "</div>"
      ],
      "text/plain": [
       "                        open     high      low    close\n",
       "date                                                   \n",
       "2006-01-01 17:00:00  117.695  117.695  117.695  117.695\n",
       "2006-01-01 17:30:00      NaN      NaN      NaN      NaN\n",
       "2006-01-01 18:00:00  117.835  117.845  117.820  117.830\n",
       "2006-01-01 18:30:00      NaN      NaN      NaN      NaN\n",
       "2006-01-01 19:00:00  117.825  117.875  117.825  117.870"
      ]
     },
     "execution_count": 40,
     "metadata": {},
     "output_type": "execute_result"
    }
   ],
   "source": [
    "ohlc.head()"
   ]
  },
  {
   "cell_type": "code",
   "execution_count": 41,
   "metadata": {},
   "outputs": [
    {
     "data": {
      "text/plain": [
       "(array([1.000e+00, 0.000e+00, 0.000e+00, 0.000e+00, 0.000e+00, 0.000e+00,\n",
       "        0.000e+00, 0.000e+00, 0.000e+00, 0.000e+00, 0.000e+00, 0.000e+00,\n",
       "        0.000e+00, 0.000e+00, 0.000e+00, 0.000e+00, 0.000e+00, 2.000e+00,\n",
       "        0.000e+00, 0.000e+00, 0.000e+00, 0.000e+00, 1.000e+00, 0.000e+00,\n",
       "        0.000e+00, 2.000e+00, 0.000e+00, 3.000e+00, 1.000e+00, 0.000e+00,\n",
       "        1.000e+00, 0.000e+00, 2.000e+00, 3.000e+00, 1.000e+00, 0.000e+00,\n",
       "        4.000e+00, 6.000e+00, 3.000e+00, 2.000e+00, 9.000e+00, 1.200e+01,\n",
       "        1.600e+01, 1.100e+01, 1.700e+01, 2.200e+01, 3.900e+01, 5.000e+01,\n",
       "        6.100e+01, 8.600e+01, 9.800e+01, 1.750e+02, 2.250e+02, 3.200e+02,\n",
       "        5.020e+02, 8.020e+02, 1.067e+03, 1.962e+03, 3.453e+03, 5.667e+03,\n",
       "        8.938e+03, 7.984e+03, 4.975e+03, 3.609e+03, 2.061e+03, 1.206e+03,\n",
       "        7.840e+02, 4.540e+02, 2.870e+02, 2.100e+02, 1.360e+02, 9.500e+01,\n",
       "        7.900e+01, 5.500e+01, 2.800e+01, 1.900e+01, 2.800e+01, 1.500e+01,\n",
       "        1.400e+01, 1.200e+01, 5.000e+00, 3.000e+00, 6.000e+00, 7.000e+00,\n",
       "        6.000e+00, 2.000e+00, 6.000e+00, 3.000e+00, 0.000e+00, 3.000e+00,\n",
       "        2.000e+00, 2.000e+00, 0.000e+00, 0.000e+00, 0.000e+00, 0.000e+00,\n",
       "        0.000e+00, 0.000e+00, 0.000e+00, 1.000e+00]),\n",
       " array([-2.0850e+00, -2.0508e+00, -2.0166e+00, -1.9824e+00, -1.9482e+00,\n",
       "        -1.9140e+00, -1.8798e+00, -1.8456e+00, -1.8114e+00, -1.7772e+00,\n",
       "        -1.7430e+00, -1.7088e+00, -1.6746e+00, -1.6404e+00, -1.6062e+00,\n",
       "        -1.5720e+00, -1.5378e+00, -1.5036e+00, -1.4694e+00, -1.4352e+00,\n",
       "        -1.4010e+00, -1.3668e+00, -1.3326e+00, -1.2984e+00, -1.2642e+00,\n",
       "        -1.2300e+00, -1.1958e+00, -1.1616e+00, -1.1274e+00, -1.0932e+00,\n",
       "        -1.0590e+00, -1.0248e+00, -9.9060e-01, -9.5640e-01, -9.2220e-01,\n",
       "        -8.8800e-01, -8.5380e-01, -8.1960e-01, -7.8540e-01, -7.5120e-01,\n",
       "        -7.1700e-01, -6.8280e-01, -6.4860e-01, -6.1440e-01, -5.8020e-01,\n",
       "        -5.4600e-01, -5.1180e-01, -4.7760e-01, -4.4340e-01, -4.0920e-01,\n",
       "        -3.7500e-01, -3.4080e-01, -3.0660e-01, -2.7240e-01, -2.3820e-01,\n",
       "        -2.0400e-01, -1.6980e-01, -1.3560e-01, -1.0140e-01, -6.7200e-02,\n",
       "        -3.3000e-02,  1.2000e-03,  3.5400e-02,  6.9600e-02,  1.0380e-01,\n",
       "         1.3800e-01,  1.7220e-01,  2.0640e-01,  2.4060e-01,  2.7480e-01,\n",
       "         3.0900e-01,  3.4320e-01,  3.7740e-01,  4.1160e-01,  4.4580e-01,\n",
       "         4.8000e-01,  5.1420e-01,  5.4840e-01,  5.8260e-01,  6.1680e-01,\n",
       "         6.5100e-01,  6.8520e-01,  7.1940e-01,  7.5360e-01,  7.8780e-01,\n",
       "         8.2200e-01,  8.5620e-01,  8.9040e-01,  9.2460e-01,  9.5880e-01,\n",
       "         9.9300e-01,  1.0272e+00,  1.0614e+00,  1.0956e+00,  1.1298e+00,\n",
       "         1.1640e+00,  1.1982e+00,  1.2324e+00,  1.2666e+00,  1.3008e+00,\n",
       "         1.3350e+00]),\n",
       " <BarContainer object of 100 artists>)"
      ]
     },
     "execution_count": 41,
     "metadata": {},
     "output_type": "execute_result"
    },
    {
     "data": {
      "image/png": "[encoded data removed]",
      "text/plain": [
       "<Figure size 640x480 with 1 Axes>"
      ]
     },
     "metadata": {},
     "output_type": "display_data"
    }
   ],
   "source": [
    "plt.hist(ohlc['close']-ohlc['open'], bins=100)"
   ]
  },
  {
   "cell_type": "code",
   "execution_count": 26,
   "metadata": {},
   "outputs": [
    {
     "data": {
      "text/plain": [
       "(0, 24)"
      ]
     },
     "execution_count": 26,
     "metadata": {},
     "output_type": "execute_result"
    }
   ],
   "source": [
    "df1.shape"
   ]
  },
  {
   "cell_type": "code",
   "execution_count": 42,
   "metadata": {},
   "outputs": [],
   "source": [
    "ret_vol_norm = (ret_vol - np.mean(ret_vol))/np.std(ret_vol)"
   ]
  },
  {
   "cell_type": "code",
   "execution_count": 43,
   "metadata": {},
   "outputs": [
    {
     "data": {
      "text/plain": [
       "(array([1.000e+00, 0.000e+00, 2.000e+00, 1.000e+00, 0.000e+00, 0.000e+00,\n",
       "        0.000e+00, 0.000e+00, 0.000e+00, 1.000e+00, 0.000e+00, 0.000e+00,\n",
       "        2.000e+00, 2.000e+00, 0.000e+00, 1.000e+00, 2.000e+00, 1.000e+00,\n",
       "        1.000e+00, 1.000e+00, 6.000e+00, 3.000e+00, 2.000e+00, 3.000e+00,\n",
       "        1.000e+00, 3.000e+00, 7.000e+00, 4.000e+00, 4.000e+00, 6.000e+00,\n",
       "        3.000e+00, 6.000e+00, 1.200e+01, 1.100e+01, 9.000e+00, 7.000e+00,\n",
       "        1.100e+01, 1.900e+01, 3.100e+01, 3.800e+01, 5.000e+01, 7.100e+01,\n",
       "        1.040e+02, 1.750e+02, 3.640e+02, 7.920e+02, 1.537e+03, 2.969e+03,\n",
       "        4.210e+03, 2.687e+03, 1.337e+03, 6.050e+02, 3.110e+02, 1.550e+02,\n",
       "        9.300e+01, 6.700e+01, 4.300e+01, 3.300e+01, 3.300e+01, 2.400e+01,\n",
       "        1.100e+01, 1.300e+01, 9.000e+00, 1.000e+01, 1.500e+01, 5.000e+00,\n",
       "        7.000e+00, 5.000e+00, 2.000e+00, 2.000e+00, 6.000e+00, 3.000e+00,\n",
       "        3.000e+00, 1.000e+00, 1.000e+00, 3.000e+00, 2.000e+00, 4.000e+00,\n",
       "        1.000e+00, 0.000e+00, 1.000e+00, 1.000e+00, 1.000e+00, 0.000e+00,\n",
       "        0.000e+00, 0.000e+00, 1.000e+00, 1.000e+00, 0.000e+00, 0.000e+00,\n",
       "        0.000e+00, 0.000e+00, 0.000e+00, 0.000e+00, 0.000e+00, 1.000e+00,\n",
       "        0.000e+00, 0.000e+00, 0.000e+00, 1.000e+00]),\n",
       " array([-14.20770171, -13.9139944 , -13.62028709, -13.32657978,\n",
       "        -13.03287247, -12.73916516, -12.44545785, -12.15175054,\n",
       "        -11.85804323, -11.56433592, -11.27062861, -10.9769213 ,\n",
       "        -10.68321399, -10.38950668, -10.09579937,  -9.80209206,\n",
       "         -9.50838475,  -9.21467744,  -8.92097013,  -8.62726282,\n",
       "         -8.33355551,  -8.0398482 ,  -7.74614089,  -7.45243358,\n",
       "         -7.15872627,  -6.86501896,  -6.57131165,  -6.27760434,\n",
       "         -5.98389703,  -5.69018972,  -5.39648241,  -5.1027751 ,\n",
       "         -4.80906779,  -4.51536048,  -4.22165317,  -3.92794586,\n",
       "         -3.63423855,  -3.34053124,  -3.04682393,  -2.75311662,\n",
       "         -2.45940931,  -2.165702  ,  -1.87199469,  -1.57828738,\n",
       "         -1.28458007,  -0.99087276,  -0.69716545,  -0.40345814,\n",
       "         -0.10975083,   0.18395648,   0.47766379,   0.7713711 ,\n",
       "          1.06507841,   1.35878572,   1.65249303,   1.94620034,\n",
       "          2.23990765,   2.53361496,   2.82732227,   3.12102958,\n",
       "          3.41473689,   3.7084442 ,   4.00215151,   4.29585882,\n",
       "          4.58956613,   4.88327344,   5.17698075,   5.47068806,\n",
       "          5.76439537,   6.05810268,   6.35180999,   6.6455173 ,\n",
       "          6.93922461,   7.23293192,   7.52663923,   7.82034654,\n",
       "          8.11405384,   8.40776115,   8.70146846,   8.99517577,\n",
       "          9.28888308,   9.58259039,   9.8762977 ,  10.17000501,\n",
       "         10.46371232,  10.75741963,  11.05112694,  11.34483425,\n",
       "         11.63854156,  11.93224887,  12.22595618,  12.51966349,\n",
       "         12.8133708 ,  13.10707811,  13.40078542,  13.69449273,\n",
       "         13.98820004,  14.28190735,  14.57561466,  14.86932197,\n",
       "         15.16302928]),\n",
       " <BarContainer object of 100 artists>)"
      ]
     },
     "execution_count": 43,
     "metadata": {},
     "output_type": "execute_result"
    },
    {
     "data": {
      "image/png": "[encoded data removed]",
      "text/plain": [
       "<Figure size 640x480 with 1 Axes>"
      ]
     },
     "metadata": {},
     "output_type": "display_data"
    }
   ],
   "source": [
    "plt.hist(ret_vol_norm, bins=100)"
   ]
  },
  {
   "cell_type": "code",
   "execution_count": 52,
   "metadata": {},
   "outputs": [
    {
     "data": {
      "text/plain": [
       "534492"
      ]
     },
     "execution_count": 52,
     "metadata": {},
     "output_type": "execute_result"
    }
   ],
   "source": [
    "len(df1)"
   ]
  },
  {
   "cell_type": "code",
   "execution_count": 56,
   "metadata": {},
   "outputs": [
    {
     "data": {
      "text/plain": [
       "17.037727412197"
      ]
     },
     "execution_count": 56,
     "metadata": {},
     "output_type": "execute_result"
    }
   ],
   "source": [
    "df1['volume'].sum() / len(df1)"
   ]
  },
  {
   "cell_type": "code",
   "execution_count": 36,
   "metadata": {},
   "outputs": [],
   "source": [
    "import statsmodels.api as sm "
   ]
  },
  {
   "cell_type": "code",
   "execution_count": 64,
   "metadata": {},
   "outputs": [],
   "source": [
    "ret_tick_st = np.array(ret_tick)\n",
    "ret_tick_st = (ret_tick_st - ret_tick_st.mean())/ret_tick_st.std()"
   ]
  },
  {
   "cell_type": "code",
   "execution_count": 48,
   "metadata": {},
   "outputs": [
    {
     "name": "stdout",
     "output_type": "stream",
     "text": [
      "\n"
     ]
    },
    {
     "data": {
      "image/png": "[encoded data removed]",
      "text/plain": [
       "<Figure size 640x480 with 1 Axes>"
      ]
     },
     "metadata": {},
     "output_type": "display_data"
    }
   ],
   "source": [
    "sm.qqplot(ret_vol_norm, line='45')\n",
    "print(\"\")"
   ]
  },
  {
   "cell_type": "code",
   "execution_count": 50,
   "metadata": {},
   "outputs": [
    {
     "data": {
      "text/plain": [
       "(0.14311204163179458, 6.884318821031461e-286)"
      ]
     },
     "execution_count": 50,
     "metadata": {},
     "output_type": "execute_result"
    }
   ],
   "source": [
    "from scipy.stats import kstest\n",
    "stat, pval = kstest(ret_vol_norm, 'norm')\n",
    "stat, pval"
   ]
  },
  {
   "cell_type": "code",
   "execution_count": null,
   "metadata": {},
   "outputs": [],
   "source": []
  },
  {
   "cell_type": "code",
   "execution_count": 67,
   "metadata": {},
   "outputs": [],
   "source": [
    "ret_vol_st = np.array(ret_vol)\n",
    "ret_vol_st = (ret_vol_st - ret_vol_st.mean())/ret_vol_st.std()"
   ]
  },
  {
   "cell_type": "code",
   "execution_count": 42,
   "metadata": {},
   "outputs": [
    {
     "name": "stdout",
     "output_type": "stream",
     "text": [
      "\n"
     ]
    },
    {
     "data": {
      "image/png": "[encoded data removed]",
      "text/plain": [
       "<Figure size 640x480 with 1 Axes>"
      ]
     },
     "metadata": {},
     "output_type": "display_data"
    }
   ],
   "source": [
    "ohlc_return = ohlc['close'] - ohlc['open']\n",
    "ohlc_norm = (ohlc_return - np.mean(ohlc_return))/np.std(ohlc_return)\n",
    "sm.qqplot(ohlc_norm, line='45')\n",
    "print(\"\")"
   ]
  },
  {
   "cell_type": "code",
   "execution_count": 68,
   "metadata": {},
   "outputs": [
    {
     "data": {
      "image/png": "[encoded data removed]",
      "text/plain": [
       "<Figure size 640x480 with 1 Axes>"
      ]
     },
     "execution_count": 68,
     "metadata": {},
     "output_type": "execute_result"
    },
    {
     "data": {
      "image/png": "[encoded data removed]",
      "text/plain": [
       "<Figure size 640x480 with 1 Axes>"
      ]
     },
     "metadata": {},
     "output_type": "display_data"
    }
   ],
   "source": [
    "sm.qqplot(ret_vol_st, line='45')"
   ]
  },
  {
   "cell_type": "code",
   "execution_count": null,
   "metadata": {},
   "outputs": [],
   "source": []
  }
 ],
 "metadata": {
  "kernelspec": {
   "display_name": ".venv",
   "language": "python",
   "name": "python3"
  },
  "language_info": {
   "codemirror_mode": {
    "name": "ipython",
    "version": 3
   },
   "file_extension": ".py",
   "mimetype": "text/x-python",
   "name": "python",
   "nbconvert_exporter": "python",
   "pygments_lexer": "ipython3",
   "version": "3.11.5"
  }
 },
 "nbformat": 4,
 "nbformat_minor": 2
}
